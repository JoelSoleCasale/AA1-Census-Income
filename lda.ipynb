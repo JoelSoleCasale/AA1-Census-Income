{
 "cells": [
  {
   "cell_type": "code",
   "execution_count": 1,
   "metadata": {},
   "outputs": [],
   "source": [
    "import pandas as pd\n",
    "import matplotlib.pyplot as plt\n",
    "import numpy as np\n",
    "from pprint import pprint\n",
    "\n",
    "from sklearn.discriminant_analysis import LinearDiscriminantAnalysis as LDA\n",
    "from sklearn.model_selection import GridSearchCV\n",
    "from sklearn.model_selection import train_test_split\n",
    "from sklearn.metrics import accuracy_score, confusion_matrix, classification_report\n",
    "from auxiliar_func import *\n",
    "from plot_func import *"
   ]
  },
  {
   "cell_type": "code",
   "execution_count": 14,
   "metadata": {},
   "outputs": [],
   "source": [
    "df = pd.read_csv('Census-Income-KDD.csv')\n",
    "target = 'income_50k'\n",
    "df_tr, df_te = train_test_split(df, test_size=0.3, random_state=42)"
   ]
  },
  {
   "cell_type": "code",
   "execution_count": 15,
   "metadata": {},
   "outputs": [
    {
     "name": "stdout",
     "output_type": "stream",
     "text": [
      "===Iteration 1===\n",
      "Searching preprocessing parameters...\n"
     ]
    }
   ],
   "source": [
    "prep_params_grid = {\n",
    "    'scaling': [None, 'minmax', 'std'],\n",
    "    'imputation': ['mode', 'nancat'],\n",
    "    'cat_age': [False, True],\n",
    "    'target_freq': [0.8, 0.9],\n",
    "    'generate_dummies': [True]\n",
    "}\n",
    "\n",
    "mod_par_grid = {\n",
    "    'solver': ['svd', 'lsqr', 'eigen'],\n",
    "    'shrinkage': [None, 'auto'],\n",
    "    'store_covariance': [True, False],\n",
    "    'tol': [1e-4, 1e-3, 1e-2],\n",
    "}\n",
    "\n",
    "lda = LDA(n_components=1)\n",
    "\n",
    "results = search_best_combination(lda, mod_par_grid, prep_params_grid, df_tr, target_metric='f1_macro', cv=5, verbose=1)\n",
    "results.to_csv('results_lda.csv', index=False)"
   ]
  },
  {
   "cell_type": "code",
   "execution_count": null,
   "metadata": {},
   "outputs": [
    {
     "name": "stdout",
     "output_type": "stream",
     "text": [
      "[{'f1_macro': 0.7543843078854054,\n",
      "  'model_param': {'shrinkage': None,\n",
      "                  'solver': 'svd',\n",
      "                  'store_covariance': True,\n",
      "                  'tol': 0.0001},\n",
      "  'prep_param': {'cat_age': True,\n",
      "                 'generate_dummies': True,\n",
      "                 'imputation': 'mode',\n",
      "                 'remove_duplicates': True,\n",
      "                 'scaling': None,\n",
      "                 'target_freq': 0.8}},\n",
      " {'f1_macro': 0.7543843078854054,\n",
      "  'model_param': {'shrinkage': None,\n",
      "                  'solver': 'svd',\n",
      "                  'store_covariance': False,\n",
      "                  'tol': 0.0001},\n",
      "  'prep_param': {'cat_age': True,\n",
      "                 'generate_dummies': True,\n",
      "                 'imputation': 'mode',\n",
      "                 'remove_duplicates': True,\n",
      "                 'scaling': None,\n",
      "                 'target_freq': 0.8}},\n",
      " {'f1_macro': 0.7543843078854054,\n",
      "  'model_param': {'shrinkage': None,\n",
      "                  'solver': 'svd',\n",
      "                  'store_covariance': False,\n",
      "                  'tol': 0.001},\n",
      "  'prep_param': {'cat_age': True,\n",
      "                 'generate_dummies': True,\n",
      "                 'imputation': 'mode',\n",
      "                 'remove_duplicates': True,\n",
      "                 'scaling': None,\n",
      "                 'target_freq': 0.8}},\n",
      " {'f1_macro': 0.7543843078854054,\n",
      "  'model_param': {'shrinkage': None,\n",
      "                  'solver': 'svd',\n",
      "                  'store_covariance': False,\n",
      "                  'tol': 0.01},\n",
      "  'prep_param': {'cat_age': True,\n",
      "                 'generate_dummies': True,\n",
      "                 'imputation': 'mode',\n",
      "                 'remove_duplicates': True,\n",
      "                 'scaling': None,\n",
      "                 'target_freq': 0.8}},\n",
      " {'f1_macro': 0.7543843078854054,\n",
      "  'model_param': {'shrinkage': None,\n",
      "                  'solver': 'lsqr',\n",
      "                  'store_covariance': True,\n",
      "                  'tol': 0.0001},\n",
      "  'prep_param': {'cat_age': True,\n",
      "                 'generate_dummies': True,\n",
      "                 'imputation': 'mode',\n",
      "                 'remove_duplicates': True,\n",
      "                 'scaling': None,\n",
      "                 'target_freq': 0.8}}]\n"
     ]
    }
   ],
   "source": [
    "results.columns\n",
    "# keep only 'prep_param', 'mod_param', 'f1_macro'\n",
    "pprint(results[['prep_param', 'model_param', 'f1_macro']].head().to_dict('records'))"
   ]
  }
 ],
 "metadata": {
  "kernelspec": {
   "display_name": "aa1",
   "language": "python",
   "name": "python3"
  },
  "language_info": {
   "codemirror_mode": {
    "name": "ipython",
    "version": 3
   },
   "file_extension": ".py",
   "mimetype": "text/x-python",
   "name": "python",
   "nbconvert_exporter": "python",
   "pygments_lexer": "ipython3",
   "version": "3.11.0"
  },
  "orig_nbformat": 4
 },
 "nbformat": 4,
 "nbformat_minor": 2
}
