{
 "cells": [
  {
   "cell_type": "code",
   "execution_count": 1,
   "metadata": {},
   "outputs": [],
   "source": [
    "import pandas as pd\n",
    "import matplotlib.pyplot as plt\n",
    "import numpy as np\n",
    "from pprint import pprint\n",
    "\n",
    "from sklearn.discriminant_analysis import LinearDiscriminantAnalysis as LDA\n",
    "from sklearn.model_selection import GridSearchCV\n",
    "from sklearn.model_selection import train_test_split\n",
    "from sklearn.metrics import accuracy_score, confusion_matrix, classification_report\n",
    "from auxiliar_func import *\n",
    "from plot_func import *"
   ]
  },
  {
   "cell_type": "code",
   "execution_count": 2,
   "metadata": {},
   "outputs": [],
   "source": [
    "df = pd.read_csv('Census-Income-KDD.csv')\n",
    "target = 'income_50k'\n",
    "df_tr, df_te = train_test_split(df, test_size=0.3, random_state=42)"
   ]
  },
  {
   "cell_type": "code",
   "execution_count": 3,
   "metadata": {},
   "outputs": [
    {
     "name": "stdout",
     "output_type": "stream",
     "text": [
      "Adjusting for (None, 'mode', False, 0.7, True)\n",
      "Adjusting for (None, 'mode', False, 0.8, True)\n",
      "Adjusting for ('svd',)\n",
      "{'solver': 'svd'}\n",
      "Adjusting for ('lsqr',)\n",
      "{'solver': 'lsqr'}\n",
      "Best metric: 0.753257018930653\n",
      "Best preprocessing parameters: {'scaling': None, 'imputation': 'mode', 'cat_age': False, 'target_freq': 0.8, 'generate_dummies': True, 'remove_duplicates': True}\n",
      "Best model parameters: {'solver': 'svd'}\n",
      "Adjusting for (None, 'mode', False, 0.7, True)\n",
      "Adjusting for (None, 'mode', False, 0.8, True)\n",
      "Adjusting for ('svd',)\n",
      "{'solver': 'svd'}\n",
      "Adjusting for ('lsqr',)\n",
      "{'solver': 'lsqr'}\n"
     ]
    },
    {
     "data": {
      "text/html": [
       "<div>\n",
       "<style scoped>\n",
       "    .dataframe tbody tr th:only-of-type {\n",
       "        vertical-align: middle;\n",
       "    }\n",
       "\n",
       "    .dataframe tbody tr th {\n",
       "        vertical-align: top;\n",
       "    }\n",
       "\n",
       "    .dataframe thead th {\n",
       "        text-align: right;\n",
       "    }\n",
       "</style>\n",
       "<table border=\"1\" class=\"dataframe\">\n",
       "  <thead>\n",
       "    <tr style=\"text-align: right;\">\n",
       "      <th></th>\n",
       "      <th>model_param</th>\n",
       "      <th>accuracy</th>\n",
       "      <th>f1_macro</th>\n",
       "      <th>precision_macro</th>\n",
       "      <th>recall_macro</th>\n",
       "      <th>prep_param</th>\n",
       "    </tr>\n",
       "  </thead>\n",
       "  <tbody>\n",
       "    <tr>\n",
       "      <th>0</th>\n",
       "      <td>{'solver': 'svd'}</td>\n",
       "      <td>0.933885</td>\n",
       "      <td>0.753257</td>\n",
       "      <td>0.727472</td>\n",
       "      <td>0.788094</td>\n",
       "      <td>NaN</td>\n",
       "    </tr>\n",
       "    <tr>\n",
       "      <th>1</th>\n",
       "      <td>{'solver': 'lsqr'}</td>\n",
       "      <td>0.933885</td>\n",
       "      <td>0.753257</td>\n",
       "      <td>0.727472</td>\n",
       "      <td>0.788094</td>\n",
       "      <td>NaN</td>\n",
       "    </tr>\n",
       "  </tbody>\n",
       "</table>\n",
       "</div>"
      ],
      "text/plain": [
       "          model_param  accuracy  f1_macro  precision_macro  recall_macro   \n",
       "0   {'solver': 'svd'}  0.933885  0.753257         0.727472      0.788094  \\\n",
       "1  {'solver': 'lsqr'}  0.933885  0.753257         0.727472      0.788094   \n",
       "\n",
       "  prep_param  \n",
       "0        NaN  \n",
       "1        NaN  "
      ]
     },
     "execution_count": 3,
     "metadata": {},
     "output_type": "execute_result"
    }
   ],
   "source": [
    "prep_params_grid = {\n",
    "    'scaling': [None],\n",
    "    'imputation': ['mode'],\n",
    "    'cat_age': [False],\n",
    "    'target_freq': [0.7, 0.8],\n",
    "    'generate_dummies': [True]\n",
    "}\n",
    "\n",
    "lda = LDA(n_components=1)\n",
    "\n",
    "mod_par_grid = {\n",
    "    'solver': ['svd', 'lsqr']\n",
    "}\n",
    "\n",
    "# results = test_preprocess_params(lda, prep_params_grid, df_tr, cv=2, verbose=2)\n",
    "# results.head()\n",
    "\n",
    "results = search_best_combination(lda, mod_par_grid, prep_params_grid, df_tr, target_metric='f1_macro', cv=2, verbose=2)\n",
    "results.head()"
   ]
  },
  {
   "cell_type": "code",
   "execution_count": 4,
   "metadata": {},
   "outputs": [
    {
     "data": {
      "text/html": [
       "<div>\n",
       "<style scoped>\n",
       "    .dataframe tbody tr th:only-of-type {\n",
       "        vertical-align: middle;\n",
       "    }\n",
       "\n",
       "    .dataframe tbody tr th {\n",
       "        vertical-align: top;\n",
       "    }\n",
       "\n",
       "    .dataframe thead th {\n",
       "        text-align: right;\n",
       "    }\n",
       "</style>\n",
       "<table border=\"1\" class=\"dataframe\">\n",
       "  <thead>\n",
       "    <tr style=\"text-align: right;\">\n",
       "      <th></th>\n",
       "      <th>model_param</th>\n",
       "      <th>accuracy</th>\n",
       "      <th>f1_macro</th>\n",
       "      <th>precision_macro</th>\n",
       "      <th>recall_macro</th>\n",
       "      <th>prep_param</th>\n",
       "    </tr>\n",
       "  </thead>\n",
       "  <tbody>\n",
       "    <tr>\n",
       "      <th>0</th>\n",
       "      <td>{'solver': 'svd'}</td>\n",
       "      <td>0.933885</td>\n",
       "      <td>0.753257</td>\n",
       "      <td>0.727472</td>\n",
       "      <td>0.788094</td>\n",
       "      <td>NaN</td>\n",
       "    </tr>\n",
       "    <tr>\n",
       "      <th>1</th>\n",
       "      <td>{'solver': 'lsqr'}</td>\n",
       "      <td>0.933885</td>\n",
       "      <td>0.753257</td>\n",
       "      <td>0.727472</td>\n",
       "      <td>0.788094</td>\n",
       "      <td>NaN</td>\n",
       "    </tr>\n",
       "  </tbody>\n",
       "</table>\n",
       "</div>"
      ],
      "text/plain": [
       "          model_param  accuracy  f1_macro  precision_macro  recall_macro   \n",
       "0   {'solver': 'svd'}  0.933885  0.753257         0.727472      0.788094  \\\n",
       "1  {'solver': 'lsqr'}  0.933885  0.753257         0.727472      0.788094   \n",
       "\n",
       "  prep_param  \n",
       "0        NaN  \n",
       "1        NaN  "
      ]
     },
     "execution_count": 4,
     "metadata": {},
     "output_type": "execute_result"
    }
   ],
   "source": [
    "results.head(10)"
   ]
  }
 ],
 "metadata": {
  "kernelspec": {
   "display_name": "aa1",
   "language": "python",
   "name": "python3"
  },
  "language_info": {
   "codemirror_mode": {
    "name": "ipython",
    "version": 3
   },
   "file_extension": ".py",
   "mimetype": "text/x-python",
   "name": "python",
   "nbconvert_exporter": "python",
   "pygments_lexer": "ipython3",
   "version": "3.11.0"
  },
  "orig_nbformat": 4
 },
 "nbformat": 4,
 "nbformat_minor": 2
}
