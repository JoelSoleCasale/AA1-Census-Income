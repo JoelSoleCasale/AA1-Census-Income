{
 "cells": [
  {
   "cell_type": "code",
   "execution_count": 1,
   "metadata": {},
   "outputs": [],
   "source": [
    "import pandas as pd\n",
    "import matplotlib.pyplot as plt\n",
    "import numpy as np\n",
    "from pprint import pprint\n",
    "\n",
    "from sklearn.discriminant_analysis import LinearDiscriminantAnalysis as LDA\n",
    "from sklearn.model_selection import GridSearchCV\n",
    "from sklearn.model_selection import train_test_split\n",
    "from sklearn.metrics import accuracy_score, confusion_matrix, classification_report\n",
    "from auxiliar_func import *\n",
    "from plot_func import *"
   ]
  },
  {
   "cell_type": "code",
   "execution_count": 2,
   "metadata": {},
   "outputs": [],
   "source": [
    "df = pd.read_csv('Census-Income-KDD.csv')\n",
    "target = 'income_50k'\n",
    "df_tr, df_te = train_test_split(df, test_size=0.3, random_state=42)"
   ]
  },
  {
   "cell_type": "code",
   "execution_count": 7,
   "metadata": {},
   "outputs": [
    {
     "name": "stdout",
     "output_type": "stream",
     "text": [
      "Adjusting for (None, 'mode', False, 0.7, True)\n",
      "Adjusting for (None, 'mode', False, 0.8, True)\n"
     ]
    },
    {
     "data": {
      "text/html": [
       "<div>\n",
       "<style scoped>\n",
       "    .dataframe tbody tr th:only-of-type {\n",
       "        vertical-align: middle;\n",
       "    }\n",
       "\n",
       "    .dataframe tbody tr th {\n",
       "        vertical-align: top;\n",
       "    }\n",
       "\n",
       "    .dataframe thead th {\n",
       "        text-align: right;\n",
       "    }\n",
       "</style>\n",
       "<table border=\"1\" class=\"dataframe\">\n",
       "  <thead>\n",
       "    <tr style=\"text-align: right;\">\n",
       "      <th></th>\n",
       "      <th>prep_param</th>\n",
       "      <th>accuracy</th>\n",
       "      <th>f1_macro</th>\n",
       "      <th>precision_macro</th>\n",
       "      <th>recall_macro</th>\n",
       "    </tr>\n",
       "  </thead>\n",
       "  <tbody>\n",
       "    <tr>\n",
       "      <th>0</th>\n",
       "      <td>{'scaling': None, 'imputation': 'mode', 'cat_a...</td>\n",
       "      <td>0.916415</td>\n",
       "      <td>0.736730</td>\n",
       "      <td>0.693563</td>\n",
       "      <td>0.823139</td>\n",
       "    </tr>\n",
       "    <tr>\n",
       "      <th>0</th>\n",
       "      <td>{'scaling': None, 'imputation': 'mode', 'cat_a...</td>\n",
       "      <td>0.933885</td>\n",
       "      <td>0.753257</td>\n",
       "      <td>0.727472</td>\n",
       "      <td>0.788094</td>\n",
       "    </tr>\n",
       "  </tbody>\n",
       "</table>\n",
       "</div>"
      ],
      "text/plain": [
       "                                          prep_param  accuracy  f1_macro   \n",
       "0  {'scaling': None, 'imputation': 'mode', 'cat_a...  0.916415  0.736730  \\\n",
       "0  {'scaling': None, 'imputation': 'mode', 'cat_a...  0.933885  0.753257   \n",
       "\n",
       "   precision_macro  recall_macro  \n",
       "0         0.693563      0.823139  \n",
       "0         0.727472      0.788094  "
      ]
     },
     "execution_count": 7,
     "metadata": {},
     "output_type": "execute_result"
    }
   ],
   "source": [
    "def test_preprocess_params(\n",
    "    model: object,\n",
    "    params: dict,\n",
    "    df: pd.DataFrame,\n",
    "    metrics: list = ['accuracy', 'f1_macro',\n",
    "                     'precision_macro', 'recall_macro'],\n",
    "    cv: int = 4,\n",
    "    verbose: int = 1,\n",
    "    col_prefix: str = 'prep_'\n",
    ") -> pd.DataFrame:\n",
    "    c_names = ['prep_param'] + metrics\n",
    "    results = pd.DataFrame(columns=c_names, dtype=object)\n",
    "\n",
    "    for combination in list(itertools.product(*params.values())):\n",
    "        if verbose > 0: print(f\"Adjusting for {combination}\")\n",
    "        try:\n",
    "            par_tr = {k: v for k, v in zip(params.keys(), combination)}\n",
    "            par_tr['remove_duplicates'] = True\n",
    "\n",
    "            cross_val_results = cross_validation(model, df, par_tr, cv=cv,\n",
    "                                                scoring=metrics)\n",
    "            results = pd.concat([results, pd.DataFrame({'prep_param': [par_tr]} | cross_val_results)])\n",
    "        except Exception as e:\n",
    "            if verbose > 0: print(f\"Error in {combination}\")\n",
    "            if verbose > 1: print(e) \n",
    "\n",
    "    return results\n",
    "\n",
    "prep_params = {\n",
    "    'scaling': [None],\n",
    "    'imputation': ['mode'],\n",
    "    'cat_age': [False],\n",
    "    'target_freq': [0.7, 0.8],\n",
    "    'generate_dummies': [True]\n",
    "}\n",
    "\n",
    "lda = LDA(n_components=1)\n",
    "\n",
    "# params = {\n",
    "#     'solver': ['svd', 'lsqr'],\n",
    "#     'tol': [1e-4, 1e-3],\n",
    "# }\n",
    "\n",
    "results = test_preprocess_params(lda, prep_params, df_tr, verbose=2, cv=2)\n",
    "results.head()"
   ]
  }
 ],
 "metadata": {
  "kernelspec": {
   "display_name": "aa1",
   "language": "python",
   "name": "python3"
  },
  "language_info": {
   "codemirror_mode": {
    "name": "ipython",
    "version": 3
   },
   "file_extension": ".py",
   "mimetype": "text/x-python",
   "name": "python",
   "nbconvert_exporter": "python",
   "pygments_lexer": "ipython3",
   "version": "3.11.0"
  },
  "orig_nbformat": 4
 },
 "nbformat": 4,
 "nbformat_minor": 2
}
