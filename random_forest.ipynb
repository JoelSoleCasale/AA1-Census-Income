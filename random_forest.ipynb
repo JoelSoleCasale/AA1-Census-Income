{
 "cells": [
  {
   "cell_type": "code",
   "execution_count": 1,
   "metadata": {},
   "outputs": [],
   "source": [
    "import pandas as pd\n",
    "import matplotlib.pyplot as plt\n",
    "import numpy as np\n",
    "import seaborn as sns\n",
    "import itertools\n",
    "import time\n",
    "\n",
    "from sklearn.linear_model import LogisticRegression\n",
    "from sklearn.ensemble import RandomForestClassifier\n",
    "from sklearn.model_selection import train_test_split\n",
    "from sklearn.metrics import accuracy_score, confusion_matrix, classification_report\n",
    "from auxiliar_func import *\n",
    "from plot_func import *"
   ]
  },
  {
   "cell_type": "code",
   "execution_count": 2,
   "metadata": {},
   "outputs": [],
   "source": [
    "df = pd.read_csv('Census-Income-KDD.csv')\n",
    "target = 'income_50k'\n",
    "df_tr, df_te = train_test_split(df, test_size=0.3, random_state=42)"
   ]
  },
  {
   "attachments": {},
   "cell_type": "markdown",
   "metadata": {},
   "source": [
    "## Finding the best preprocessing parameters"
   ]
  },
  {
   "cell_type": "code",
   "execution_count": 3,
   "metadata": {},
   "outputs": [
    {
     "name": "stdout",
     "output_type": "stream",
     "text": [
      "Adjusting for (None, 'mode', False, 0.7)\n",
      "Adjusting for (None, 'mode', False, 0.8)\n",
      "Adjusting for (None, 'mode', False, 0.9)\n",
      "Adjusting for (None, 'mode', True, 0.7)\n",
      "Adjusting for (None, 'mode', True, 0.8)\n",
      "Adjusting for (None, 'mode', True, 0.9)\n",
      "Adjusting for (None, 'nacat', False, 0.7)\n",
      "Adjusting for (None, 'nacat', False, 0.8)\n",
      "Adjusting for (None, 'nacat', False, 0.9)\n",
      "Adjusting for (None, 'nacat', True, 0.7)\n",
      "Adjusting for (None, 'nacat', True, 0.8)\n",
      "Adjusting for (None, 'nacat', True, 0.9)\n",
      "Adjusting for (None, 'dropna', False, 0.7)\n",
      "Adjusting for (None, 'dropna', False, 0.8)\n",
      "Adjusting for (None, 'dropna', False, 0.9)\n",
      "Adjusting for (None, 'dropna', True, 0.7)\n",
      "Adjusting for (None, 'dropna', True, 0.8)\n",
      "Adjusting for (None, 'dropna', True, 0.9)\n"
     ]
    }
   ],
   "source": [
    "params = {\n",
    "    'scaling': [None],\n",
    "    'imputation': ['mode', 'nacat', 'dropna'],\n",
    "    'cat_age': [False, True],\n",
    "    'target_freq': [0.7, 0.8, 0.9]\n",
    "}\n",
    "\n",
    "rf = RandomForestClassifier(random_state=42, n_estimators=22, max_depth=30, n_jobs=-1, class_weight={0: 1, 1: 1.5})\n",
    "results = test_preprocess_params(df_tr, rf, params)\n",
    "\n",
    "results.to_csv('results_rf.csv', index=False)"
   ]
  },
  {
   "cell_type": "code",
   "execution_count": 3,
   "metadata": {},
   "outputs": [
    {
     "data": {
      "text/plain": [
       "((43975, 474), (59857, 474))"
      ]
     },
     "execution_count": 3,
     "metadata": {},
     "output_type": "execute_result"
    }
   ],
   "source": [
    "df_tr_pre = preprocessing(df_tr, scaling=None, imputation='mode', cat_age=False, target_freq=0.8)\n",
    "df_te_pre = preprocessing(df_te, scaling=None, imputation='mode', remove_duplicates=False, cat_age=False)\n",
    "\n",
    "df_tr_pre, df_te_pre = df_tr_pre.align(df_te_pre, join='left', axis=1, fill_value=0)\n",
    "df_tr_pre.shape, df_te_pre.shape"
   ]
  },
  {
   "attachments": {},
   "cell_type": "markdown",
   "metadata": {},
   "source": [
    "## Adjusting a random forest model"
   ]
  },
  {
   "cell_type": "code",
   "execution_count": 7,
   "metadata": {},
   "outputs": [
    {
     "name": "stdout",
     "output_type": "stream",
     "text": [
      "Accuracy: 0.9445678867968659\n"
     ]
    },
    {
     "data": {
      "image/png": "[encoded data removed]",
      "text/plain": [
       "<Figure size 500x500 with 2 Axes>"
      ]
     },
     "metadata": {},
     "output_type": "display_data"
    }
   ],
   "source": [
    "X_train, y_train = df_tr_pre.drop(target, axis=1), df_tr_pre[target]\n",
    "X_test, y_test = df_te_pre.drop(target, axis=1), df_te_pre[target]\n",
    "\n",
    "rf = RandomForestClassifier(random_state=42, n_estimators=22, max_depth=30, n_jobs=-1)\n",
    "rf.fit(X_train, y_train)\n",
    "\n",
    "# predict the test set\n",
    "y_pred = rf.predict(X_test)\n",
    "\n",
    "# print the accuracy score\n",
    "print(f\"Accuracy: {accuracy_score(y_test, y_pred)}\")\n",
    "plot_conf_matrix(y_test, y_pred)"
   ]
  }
 ],
 "metadata": {
  "kernelspec": {
   "display_name": "aa1",
   "language": "python",
   "name": "python3"
  },
  "language_info": {
   "codemirror_mode": {
    "name": "ipython",
    "version": 3
   },
   "file_extension": ".py",
   "mimetype": "text/x-python",
   "name": "python",
   "nbconvert_exporter": "python",
   "pygments_lexer": "ipython3",
   "version": "3.11.0"
  },
  "orig_nbformat": 4
 },
 "nbformat": 4,
 "nbformat_minor": 2
}
