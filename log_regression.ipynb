{
 "cells": [
  {
   "cell_type": "code",
   "execution_count": 1,
   "metadata": {},
   "outputs": [],
   "source": [
    "import pandas as pd\n",
    "import matplotlib.pyplot as plt\n",
    "import numpy as np\n",
    "import seaborn as sns\n",
    "import itertools\n",
    "import time\n",
    "\n",
    "from sklearn.linear_model import LogisticRegression\n",
    "from sklearn.model_selection import train_test_split\n",
    "from sklearn.metrics import accuracy_score, confusion_matrix, classification_report\n",
    "from auxiliar_func import preprocessing, downsampling, cross_validation\n",
    "from plot_func import *"
   ]
  },
  {
   "cell_type": "code",
   "execution_count": 2,
   "metadata": {},
   "outputs": [],
   "source": [
    "df = pd.read_csv('Census-Income-KDD.csv')\n",
    "target = 'income_50k'\n",
    "df_tr, df_te = train_test_split(df, test_size=0.3, random_state=42)"
   ]
  },
  {
   "attachments": {},
   "cell_type": "markdown",
   "metadata": {},
   "source": [
    "## Cross validation to test the preprocessing parameters"
   ]
  },
  {
   "cell_type": "code",
   "execution_count": 8,
   "metadata": {},
   "outputs": [
    {
     "name": "stdout",
     "output_type": "stream",
     "text": [
      "Adjusting for ('standard', 'mode', False, 0.8)\n",
      "Adjusting for ('standard', 'mode', False, 0.85)\n",
      "Adjusting for ('standard', 'mode', False, 0.9)\n",
      "Adjusting for (None, 'mode', False, 0.8)\n",
      "Adjusting for (None, 'mode', False, 0.85)\n",
      "Adjusting for (None, 'mode', False, 0.9)\n"
     ]
    }
   ],
   "source": [
    "params = {\n",
    "    'scaling': ['standard', None],\n",
    "    'imputation': ['mode'],\n",
    "    'cat_age': [False],\n",
    "    'target_freq': [0.8, 0.85, 0.9]\n",
    "}\n",
    "\n",
    "results = pd.DataFrame(columns=['scaling', 'imputation', 'cat_age', 'target_freq', 'accuracy', 'f1_macro', 'precision_macro', 'recall_macro'])\n",
    "\n",
    "for combination in list(itertools.product(*params.values())):\n",
    "    print(f\"Adjusting for {combination}\")\n",
    "    par_tr = {k:v for k,v in zip(params.keys(), combination)}\n",
    "    par_tr['remove_duplicates'] = True\n",
    "\n",
    "    # we remove the parameter that modifies the test dataset\n",
    "    par_te = par_tr.copy()\n",
    "    par_te['remove_duplicates'] = False\n",
    "    par_te['target_freq'] = None\n",
    "\n",
    "    logreg = LogisticRegression(max_iter=1000, random_state=42, solver='newton-cholesky')\n",
    "\n",
    "    cross_val_results = cross_validation(logreg, df_tr, par_tr, par_te, cv = 4,\n",
    "                                       scoring = ['accuracy', 'f1_macro', 'precision_macro', 'recall_macro'])\n",
    "    results = pd.concat([results, pd.DataFrame([list(combination) + list(cross_val_results.values())],\n",
    "                                                  columns=['scaling', 'imputation', 'cat_age', 'target_freq', 'accuracy', 'f1_macro', 'precision_macro', 'recall_macro'])])\n",
    "    \n",
    "results.to_csv('results_log_regression.csv', index=False)"
   ]
  },
  {
   "cell_type": "code",
   "execution_count": 4,
   "metadata": {},
   "outputs": [],
   "source": [
    "df_tr_pre = preprocessing(df_tr, scaling=None, imputation='mode', cat_age=False, target_freq=0.8)\n",
    "df_te_pre = preprocessing(df_te, scaling=None, imputation='mode', remove_duplicates=False, cat_age=False)\n",
    "\n",
    "df_tr_pre, df_te_pre = df_tr_pre.align(df_te_pre, join='left', axis=1, fill_value=0)\n",
    "df_tr_pre.shape, df_te_pre.shape"
   ]
  },
  {
   "attachments": {},
   "cell_type": "markdown",
   "metadata": {},
   "source": [
    "## Adjusting a logistic regression model"
   ]
  },
  {
   "cell_type": "code",
   "execution_count": 6,
   "metadata": {},
   "outputs": [],
   "source": [
    "X_train, y_train = df_tr_pre.drop(target, axis=1), df_tr_pre[target]\n",
    "X_test, y_test = df_te_pre.drop(target, axis=1), df_te_pre[target]\n",
    "\n",
    "# adjust a logistic regression model to the data\n",
    "logreg = LogisticRegression(max_iter=1000, random_state=42, solver='newton-cholesky')\n",
    "logreg.fit(X_train, y_train)\n",
    "\n",
    "y_pred = logreg.predict(X_test)"
   ]
  },
  {
   "attachments": {},
   "cell_type": "markdown",
   "metadata": {},
   "source": [
    "### Accuracy metrics:"
   ]
  },
  {
   "cell_type": "code",
   "execution_count": 7,
   "metadata": {},
   "outputs": [
    {
     "name": "stdout",
     "output_type": "stream",
     "text": [
      "Accuracy score:  0.9424294568722121\n"
     ]
    },
    {
     "data": {
      "image/png": "[encoded data removed]",
      "text/plain": [
       "<Figure size 500x500 with 2 Axes>"
      ]
     },
     "metadata": {},
     "output_type": "display_data"
    }
   ],
   "source": [
    "print('Accuracy score: ', accuracy_score(y_test, y_pred))\n",
    "plot_conf_matrix(y_test, y_pred)"
   ]
  }
 ],
 "metadata": {
  "kernelspec": {
   "display_name": "aa1",
   "language": "python",
   "name": "python3"
  },
  "language_info": {
   "codemirror_mode": {
    "name": "ipython",
    "version": 3
   },
   "file_extension": ".py",
   "mimetype": "text/x-python",
   "name": "python",
   "nbconvert_exporter": "python",
   "pygments_lexer": "ipython3",
   "version": "3.11.0"
  },
  "orig_nbformat": 4
 },
 "nbformat": 4,
 "nbformat_minor": 2
}
