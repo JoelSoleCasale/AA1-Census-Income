{
 "cells": [
  {
   "cell_type": "code",
   "execution_count": 1,
   "metadata": {},
   "outputs": [],
   "source": [
    "import pandas as pd\n",
    "import matplotlib.pyplot as plt\n",
    "import numpy as np\n",
    "import seaborn as sns\n",
    "import itertools\n",
    "import time\n",
    "\n",
    "from sklearn.linear_model import LogisticRegression\n",
    "from sklearn.model_selection import train_test_split\n",
    "from sklearn.metrics import accuracy_score, confusion_matrix, classification_report\n",
    "from auxiliar_func import preprocessing, downsampling, cross_validation\n",
    "from plot_func import *"
   ]
  },
  {
   "cell_type": "code",
   "execution_count": 2,
   "metadata": {},
   "outputs": [],
   "source": [
    "df = pd.read_csv('Census-Income-KDD.csv')\n",
    "target = 'income_50k'\n",
    "df_tr, df_te = train_test_split(df, test_size=0.3, random_state=42)"
   ]
  },
  {
   "cell_type": "code",
   "execution_count": 3,
   "metadata": {},
   "outputs": [
    {
     "name": "stdout",
     "output_type": "stream",
     "text": [
      "Adjusting for ('minmax', 'mode', True, 0.8)\n"
     ]
    }
   ],
   "source": [
    "params = {\n",
    "    'scaling': ['minmax', 'standard', None],\n",
    "    'imputation': ['mode', 'nancat'],\n",
    "    'cat_age': [True, False],\n",
    "    'target_freq': [0.8, 0.9]\n",
    "}\n",
    "\n",
    "results = pd.DataFrame(columns=['scaling', 'imputation', 'cat_age', 'target_freq', 'accuracy', 'f1_macro', 'precision_macro', 'recall_macro'])\n",
    "\n",
    "for combination in list(itertools.product(*params.values())):\n",
    "    print(f\"Adjusting for {combination}\")\n",
    "    par_tr = {k:v for k,v in zip(params.keys(), combination)}\n",
    "    par_tr['remove_duplicates'] = True\n",
    "\n",
    "    # we remove the parameter that modifies the test dataset\n",
    "    par_te = par_tr.copy()\n",
    "    par_te['remove_duplicates'] = False\n",
    "    par_te['target_freq'] = None\n",
    "\n",
    "    logreg = LogisticRegression(max_iter=1000, random_state=42, solver='newton-cholesky')\n",
    "\n",
    "    cross_val_results = cross_validation(logreg, df_tr, par_tr, par_te, cv = 4,\n",
    "                                       scoring = ['accuracy', 'f1_macro', 'precision_macro', 'recall_macro'])\n",
    "    results = pd.concat([results, pd.DataFrame([list(combination) + list(cross_val_results.values())],\n",
    "                                                  columns=['scaling', 'imputation', 'cat_age', 'target_freq', 'accuracy', 'f1_macro', 'precision_macro', 'recall_macro'])])\n",
    "    \n",
    "results.to_csv('results_log_regression.csv', index=False)"
   ]
  },
  {
   "attachments": {},
   "cell_type": "markdown",
   "metadata": {},
   "source": [
    "## Cross validation to test the preprocessing parameters"
   ]
  },
  {
   "cell_type": "code",
   "execution_count": 4,
   "metadata": {},
   "outputs": [
    {
     "name": "stdout",
     "output_type": "stream",
     "text": [
      "Adjusting for scaling: minmax, imputation: mode, cat_age: True, downsampling_freq: 0.7\n",
      "   fit_time  score_time  test_accuracy  test_f1_macro  test_precision_macro   \n",
      "0  3.267559    0.100888       0.868861       0.840268              0.849100  \\\n",
      "1  3.513533    0.069065       0.852635       0.821056              0.828202   \n",
      "2  3.786678    0.102788       0.861504       0.831354              0.839888   \n",
      "3  3.458833    0.072014       0.866280       0.838241              0.844192   \n",
      "4  3.029094    0.079997       0.859628       0.829219              0.837333   \n",
      "\n",
      "   test_recall_macro  \n",
      "0           0.832906  \n",
      "1           0.814989  \n",
      "2           0.824247  \n",
      "3           0.833019  \n",
      "4           0.822420  \n"
     ]
    }
   ],
   "source": [
    "scaling = ['minmax', 'standard', None]\n",
    "imputation = ['mode', 'nancat']\n",
    "cat_age = [True, False]\n",
    "downsampling_freq = [0.8, 0.9]\n",
    "\n",
    "results = pd.DataFrame(columns=['scaling', 'imputation', 'cat_age', 'downsampling_freq', 'accuracy', 'precision', 'recall', 'f1_score'])\n",
    "\n",
    "for s, i, c, d in itertools.product(scaling, imputation, cat_age, downsampling_freq):\n",
    "    print(f\"Adjusting for scaling: {s}, imputation: {i}, cat_age: {c}, downsampling_freq: {d}\")\n",
    "\n",
    "    df_tr_pre = preprocessing(df_tr, scaling=s, imputation=i, cat_age=c)\n",
    "    df_tr_pre = downsampling(df_tr_pre, target_freq=d)\n",
    "    df_te_pre = preprocessing(df_te, scaling=s, imputation=i, remove_duplicates=False, cat_age=c)\n",
    "\n",
    "    df_tr_pre, df_te_pre = df_tr_pre.align(df_te_pre, join='left', axis=1, fill_value=0)\n",
    "\n",
    "    X_train, y_train = df_tr_pre.drop(target, axis=1), df_tr_pre[target]\n",
    "    X_test, y_test = df_te_pre.drop(target, axis=1), df_te_pre[target]\n",
    "\n",
    "    # adjust a logistic regression model to the data\n",
    "    logreg = LogisticRegression(max_iter=1000, random_state=42, solver='newton-cholesky')\n",
    "    \n",
    "    # cross_val_results = pd.DataFrame(cross_validate(logreg, X_train, y_train, cv = 4, \n",
    "    #                         scoring = ['accuracy', 'f1_macro', 'precision_macro', 'recall_macro'] ))\n",
    "    \n",
    "    # results = pd.concat([results, pd.DataFrame({'scaling': s, 'imputation': i, 'cat_age': c, 'downsampling_freq': d,\n",
    "    #                                             'accuracy': cross_val_results['test_accuracy'].mean(),\n",
    "    #                                             'precision': cross_val_results['test_precision_macro'].mean(),\n",
    "    #                                             'recall': cross_val_results['test_recall_macro'].mean(),\n",
    "    #                                             'f1_score': cross_val_results['test_f1_macro'].mean()}, index=[0])], ignore_index=True)\n",
    "    break\n",
    "\n",
    "\n",
    "results.to_csv('results_log_regression.csv', index=False)"
   ]
  },
  {
   "cell_type": "code",
   "execution_count": 3,
   "metadata": {},
   "outputs": [],
   "source": [
    "df_tr_pre = preprocessing(df_tr, scaling=None, imputation='mode', cat_age=False, target_freq=0.8)\n",
    "df_te_pre = preprocessing(df_te, scaling=None, imputation='mode', remove_duplicates=False, cat_age=False)\n",
    "\n",
    "df_tr_pre, df_te_pre = df_tr_pre.align(df_te_pre, join='left', axis=1, fill_value=0)"
   ]
  },
  {
   "cell_type": "code",
   "execution_count": 4,
   "metadata": {},
   "outputs": [
    {
     "data": {
      "text/plain": [
       "((43975, 474), (59857, 474))"
      ]
     },
     "execution_count": 4,
     "metadata": {},
     "output_type": "execute_result"
    }
   ],
   "source": [
    "df_tr_pre.shape, df_te_pre.shape"
   ]
  },
  {
   "attachments": {},
   "cell_type": "markdown",
   "metadata": {},
   "source": [
    "## Adjusting a logistic regression model"
   ]
  },
  {
   "cell_type": "code",
   "execution_count": 15,
   "metadata": {},
   "outputs": [],
   "source": [
    "X_train, y_train = df_tr_pre.drop(target, axis=1), df_tr_pre[target]\n",
    "X_test, y_test = df_te_pre.drop(target, axis=1), df_te_pre[target]\n",
    "\n",
    "# adjust a logistic regression model to the data\n",
    "logreg = LogisticRegression(max_iter=1000, random_state=42, solver='newton-cholesky')\n",
    "logreg.fit(X_train, y_train)\n",
    "\n",
    "y_pred = logreg.predict(X_test)"
   ]
  },
  {
   "attachments": {},
   "cell_type": "markdown",
   "metadata": {},
   "source": [
    "### Accuracy metrics:"
   ]
  },
  {
   "cell_type": "code",
   "execution_count": 16,
   "metadata": {},
   "outputs": [
    {
     "name": "stdout",
     "output_type": "stream",
     "text": [
      "Accuracy score:  0.9356299179711646\n"
     ]
    },
    {
     "data": {
      "image/png": "[encoded data removed]",
      "text/plain": [
       "<Figure size 500x500 with 2 Axes>"
      ]
     },
     "metadata": {},
     "output_type": "display_data"
    }
   ],
   "source": [
    "print('Accuracy score: ', accuracy_score(y_test, y_pred))\n",
    "plot_conf_matrix(y_test, y_pred)"
   ]
  }
 ],
 "metadata": {
  "kernelspec": {
   "display_name": "aa1",
   "language": "python",
   "name": "python3"
  },
  "language_info": {
   "codemirror_mode": {
    "name": "ipython",
    "version": 3
   },
   "file_extension": ".py",
   "mimetype": "text/x-python",
   "name": "python",
   "nbconvert_exporter": "python",
   "pygments_lexer": "ipython3",
   "version": "3.11.0"
  },
  "orig_nbformat": 4
 },
 "nbformat": 4,
 "nbformat_minor": 2
}
