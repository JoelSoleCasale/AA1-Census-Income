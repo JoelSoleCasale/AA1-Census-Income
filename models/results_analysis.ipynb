{
 "cells": [
  {
   "cell_type": "code",
   "execution_count": 1,
   "metadata": {},
   "outputs": [],
   "source": [
    "import pandas as pd\n",
    "import ast\n",
    "import os\n",
    "from pprint import pprint\n",
    "import matplotlib.pyplot as plt\n",
    "from auxiliar_func import *"
   ]
  },
  {
   "cell_type": "code",
   "execution_count": 2,
   "metadata": {},
   "outputs": [
    {
     "name": "stdout",
     "output_type": "stream",
     "text": [
      "====================results_catboost.csv====================\n",
      "Preprocessing best params:\n",
      "{'scaling': None, 'imputation': 'mode', 'cat_age': False, 'merge_capital': False, 'downsampling_method': 'random', 'target_freq': 0.85, 'generate_dummies': False, 'remove_duplicates': True}\n",
      "Model best params:\n",
      "{'iterations': 750, 'depth': 6, 'border_count': 32, 'random_seed': 42, 'verbose': 0, 'loss_function': 'Logloss', 'eval_metric': 'F1', 'class_weights': [1, 1], 'cat_features': ['class_worker', 'det_ind_code', 'det_occ_code', 'education', 'hs_college', 'marital_stat', 'major_ind_code', 'major_occ_code', 'race', 'hisp_origin', 'sex', 'union_member', 'unemp_reason', 'full_or_part_emp', 'tax_filer_stat', 'region_prev_res', 'state_prev_res', 'det_hh_fam_stat', 'det_hh_summ', 'mig_same', 'fam_under_18', 'country_father', 'country_mother', 'country_self', 'citizenship', 'own_or_self', 'vet_question', 'vet_benefits', 'year']}\n",
      "====================results_knn.csv====================\n",
      "Preprocessing best params:\n",
      "{'scaling': 'standard', 'imputation': 'mode', 'cat_age': True, 'merge_capital': False, 'downsampling_method': 'random', 'target_freq': 0.85, 'generate_dummies': True, 'remove_duplicates': True}\n",
      "Model best params:\n",
      "{'n_neighbors': 15, 'weights': 'distance'}\n",
      "====================results_lda.csv====================\n",
      "Preprocessing best params:\n",
      "{'scaling': 'standard', 'imputation': 'mode', 'cat_age': True, 'merge_capital': False, 'downsampling_method': 'random', 'target_freq': 0.85, 'generate_dummies': True, 'remove_duplicates': True}\n",
      "Model best params:\n",
      "{'tol': 0.0001}\n",
      "====================results_logreg.csv====================\n",
      "Preprocessing best params:\n",
      "{'scaling': 'standard', 'imputation': 'mode', 'cat_age': True, 'merge_capital': False, 'downsampling_method': 'random', 'target_freq': 0.85, 'generate_dummies': True, 'remove_duplicates': True}\n",
      "Model best params:\n",
      "{'penalty': 'l1', 'C': 0.1, 'class_weight': None, 'fit_intercept': False, 'intercept_scaling': 0.1, 'max_iter': 1000, 'multi_class': 'auto', 'random_state': 42, 'solver': 'saga'}\n",
      "====================results_qda.csv====================\n",
      "Preprocessing best params:\n",
      "{'scaling': None, 'imputation': 'mode', 'cat_age': False, 'merge_capital': True, 'downsampling_method': 'random', 'target_freq': 0.85, 'generate_dummies': True, 'remove_duplicates': True}\n",
      "Model best params:\n",
      "{'reg_param': 0.2, 'store_covariance': False, 'tol': 0.01}\n",
      "====================results_rf.csv====================\n",
      "Preprocessing best params:\n",
      "{'scaling': 'minmax', 'imputation': 'mode', 'cat_age': False, 'merge_capital': False, 'downsampling_method': 'random', 'target_freq': 0.8, 'generate_dummies': True, 'remove_duplicates': True}\n",
      "Model best params:\n",
      "{'n_estimators': 100, 'criterion': 'gini', 'max_depth': 25, 'max_features': 'sqrt', 'random_state': 42, 'verbose': 0, 'warm_start': False, 'class_weight': None}\n",
      "====================results_svm.csv====================\n",
      "Preprocessing best params:\n",
      "{'scaling': 'standard', 'imputation': 'mode', 'cat_age': True, 'merge_capital': False, 'downsampling_method': 'random', 'target_freq': 0.85, 'generate_dummies': True, 'remove_duplicates': True}\n",
      "Model best params:\n",
      "{'penalty': 'l1', 'loss': 'squared_hinge', 'dual': False, 'C': 0.1, 'fit_intercept': False, 'intercept_scaling': 0.1, 'class_weight': None, 'max_iter': 1000, 'random_state': 42}\n"
     ]
    }
   ],
   "source": [
    "# show the best params for all the files in the /results folder\n",
    "for file in os.listdir('./results'):\n",
    "    if file.endswith('.csv'):\n",
    "        print('='*20+file+'='*20)\n",
    "        prep_p, mod_p = get_best_params('./results/'+file)\n",
    "        print('Preprocessing best params:')\n",
    "        print(prep_p)\n",
    "        print('Model best params:')\n",
    "        print(mod_p)"
   ]
  },
  {
   "cell_type": "code",
   "execution_count": 9,
   "metadata": {},
   "outputs": [
    {
     "name": "stdout",
     "output_type": "stream",
     "text": [
      "{'catboost': 0.7976616217772858,\n",
      " 'knn': 0.7580555798828874,\n",
      " 'lda': 0.7578632912005435,\n",
      " 'logreg': 0.7749505241526554,\n",
      " 'qda': 0.7401926203343498,\n",
      " 'rf': 0.7806861921434933,\n",
      " 'svm': 0.7732645069011365}\n"
     ]
    },
    {
     "data": {
      "image/png": "[encoded data removed]",
      "text/plain": [
       "<Figure size 640x480 with 1 Axes>"
      ]
     },
     "metadata": {},
     "output_type": "display_data"
    }
   ],
   "source": [
    "best_f1 = {}\n",
    "for file in os.listdir('./results'):\n",
    "    if file.endswith('.csv'):\n",
    "        res = read_results('./results/'+file)\n",
    "        best_f1[file.split('_')[1][:-4]] = res['f1_macro'].max()\n",
    "    \n",
    "pprint(best_f1)\n",
    "# barplot the best f1_macro of each model sorted by the best f1_macro\n",
    "# sort the dict by value\n",
    "best_f1 = {k: v for k, v in sorted(best_f1.items(), key=lambda item: item[1])}\n",
    "plt.barh(list(best_f1.keys()), list(best_f1.values()), color='green')\n",
    "plt.xlim(0.7, 0.8)\n",
    "plt.xlabel('f1-score')\n",
    "plt.ylabel('Model')\n",
    "plt.title('Best f1-score of each model')\n",
    "plt.show()"
   ]
  },
  {
   "cell_type": "code",
   "execution_count": 4,
   "metadata": {},
   "outputs": [
    {
     "name": "stdout",
     "output_type": "stream",
     "text": [
      "{'cat_age': False,\n",
      " 'downsampling_method': 'random',\n",
      " 'generate_dummies': False,\n",
      " 'imputation': 'mode',\n",
      " 'merge_capital': False,\n",
      " 'remove_duplicates': True,\n",
      " 'scaling': None,\n",
      " 'target_freq': 0.85}\n",
      "{'border_count': 32,\n",
      " 'cat_features': '',\n",
      " 'class_weights': [1, 1],\n",
      " 'depth': 6,\n",
      " 'eval_metric': 'F1',\n",
      " 'iterations': 750,\n",
      " 'loss_function': 'Logloss',\n",
      " 'random_seed': 42,\n",
      " 'verbose': 0}\n"
     ]
    }
   ],
   "source": [
    "prep_p, mod_p = get_best_params('./results/results_catboost.csv')\n",
    "mod_p['cat_features'] = ''\n",
    "pprint(prep_p)\n",
    "pprint(mod_p)"
   ]
  },
  {
   "cell_type": "code",
   "execution_count": 5,
   "metadata": {},
   "outputs": [
    {
     "data": {
      "text/html": [
       "<div>\n",
       "<style scoped>\n",
       "    .dataframe tbody tr th:only-of-type {\n",
       "        vertical-align: middle;\n",
       "    }\n",
       "\n",
       "    .dataframe tbody tr th {\n",
       "        vertical-align: top;\n",
       "    }\n",
       "\n",
       "    .dataframe thead th {\n",
       "        text-align: right;\n",
       "    }\n",
       "</style>\n",
       "<table border=\"1\" class=\"dataframe\">\n",
       "  <thead>\n",
       "    <tr style=\"text-align: right;\">\n",
       "      <th></th>\n",
       "      <th>accuracy</th>\n",
       "      <th>f1_macro</th>\n",
       "      <th>precision_macro</th>\n",
       "      <th>recall_macro</th>\n",
       "      <th>tex</th>\n",
       "      <th>scaling</th>\n",
       "      <th>imputation</th>\n",
       "      <th>cat_age</th>\n",
       "      <th>merge_capital</th>\n",
       "      <th>downsampling_method</th>\n",
       "      <th>...</th>\n",
       "      <th>remove_duplicates</th>\n",
       "      <th>iterations</th>\n",
       "      <th>depth</th>\n",
       "      <th>border_count</th>\n",
       "      <th>random_seed</th>\n",
       "      <th>verbose</th>\n",
       "      <th>loss_function</th>\n",
       "      <th>eval_metric</th>\n",
       "      <th>class_weights</th>\n",
       "      <th>cat_features</th>\n",
       "    </tr>\n",
       "  </thead>\n",
       "  <tbody>\n",
       "    <tr>\n",
       "      <th>0</th>\n",
       "      <td>0.952802</td>\n",
       "      <td>0.797662</td>\n",
       "      <td>0.801389</td>\n",
       "      <td>0.794142</td>\n",
       "      <td>275.496793</td>\n",
       "      <td>None</td>\n",
       "      <td>mode</td>\n",
       "      <td>False</td>\n",
       "      <td>False</td>\n",
       "      <td>random</td>\n",
       "      <td>...</td>\n",
       "      <td>True</td>\n",
       "      <td>750</td>\n",
       "      <td>6</td>\n",
       "      <td>32</td>\n",
       "      <td>42</td>\n",
       "      <td>0</td>\n",
       "      <td>Logloss</td>\n",
       "      <td>F1</td>\n",
       "      <td>[1, 1]</td>\n",
       "      <td>[class_worker, det_ind_code, det_occ_code, edu...</td>\n",
       "    </tr>\n",
       "    <tr>\n",
       "      <th>1</th>\n",
       "      <td>0.953138</td>\n",
       "      <td>0.796922</td>\n",
       "      <td>0.804067</td>\n",
       "      <td>0.790271</td>\n",
       "      <td>181.339746</td>\n",
       "      <td>None</td>\n",
       "      <td>mode</td>\n",
       "      <td>False</td>\n",
       "      <td>False</td>\n",
       "      <td>random</td>\n",
       "      <td>...</td>\n",
       "      <td>True</td>\n",
       "      <td>750</td>\n",
       "      <td>4</td>\n",
       "      <td>96</td>\n",
       "      <td>42</td>\n",
       "      <td>0</td>\n",
       "      <td>Logloss</td>\n",
       "      <td>F1</td>\n",
       "      <td>[1, 1]</td>\n",
       "      <td>[class_worker, det_ind_code, det_occ_code, edu...</td>\n",
       "    </tr>\n",
       "    <tr>\n",
       "      <th>2</th>\n",
       "      <td>0.953224</td>\n",
       "      <td>0.796888</td>\n",
       "      <td>0.804704</td>\n",
       "      <td>0.789666</td>\n",
       "      <td>181.043571</td>\n",
       "      <td>None</td>\n",
       "      <td>mode</td>\n",
       "      <td>False</td>\n",
       "      <td>False</td>\n",
       "      <td>random</td>\n",
       "      <td>...</td>\n",
       "      <td>True</td>\n",
       "      <td>750</td>\n",
       "      <td>4</td>\n",
       "      <td>96</td>\n",
       "      <td>42</td>\n",
       "      <td>0</td>\n",
       "      <td>Logloss</td>\n",
       "      <td>AUC</td>\n",
       "      <td>[1, 1]</td>\n",
       "      <td>[class_worker, det_ind_code, det_occ_code, edu...</td>\n",
       "    </tr>\n",
       "    <tr>\n",
       "      <th>3</th>\n",
       "      <td>0.952888</td>\n",
       "      <td>0.795990</td>\n",
       "      <td>0.803046</td>\n",
       "      <td>0.789549</td>\n",
       "      <td>178.471049</td>\n",
       "      <td>None</td>\n",
       "      <td>mode</td>\n",
       "      <td>False</td>\n",
       "      <td>False</td>\n",
       "      <td>random</td>\n",
       "      <td>...</td>\n",
       "      <td>True</td>\n",
       "      <td>750</td>\n",
       "      <td>4</td>\n",
       "      <td>64</td>\n",
       "      <td>42</td>\n",
       "      <td>0</td>\n",
       "      <td>Logloss</td>\n",
       "      <td>F1</td>\n",
       "      <td>[1, 1]</td>\n",
       "      <td>[class_worker, det_ind_code, det_occ_code, edu...</td>\n",
       "    </tr>\n",
       "    <tr>\n",
       "      <th>4</th>\n",
       "      <td>0.952730</td>\n",
       "      <td>0.795402</td>\n",
       "      <td>0.802126</td>\n",
       "      <td>0.789145</td>\n",
       "      <td>174.454477</td>\n",
       "      <td>None</td>\n",
       "      <td>mode</td>\n",
       "      <td>False</td>\n",
       "      <td>False</td>\n",
       "      <td>random</td>\n",
       "      <td>...</td>\n",
       "      <td>True</td>\n",
       "      <td>750</td>\n",
       "      <td>4</td>\n",
       "      <td>32</td>\n",
       "      <td>42</td>\n",
       "      <td>0</td>\n",
       "      <td>Logloss</td>\n",
       "      <td>AUC</td>\n",
       "      <td>[1, 1]</td>\n",
       "      <td>[class_worker, det_ind_code, det_occ_code, edu...</td>\n",
       "    </tr>\n",
       "  </tbody>\n",
       "</table>\n",
       "<p>5 rows × 22 columns</p>\n",
       "</div>"
      ],
      "text/plain": [
       "   accuracy  f1_macro  precision_macro  recall_macro         tex scaling  \\\n",
       "0  0.952802  0.797662         0.801389      0.794142  275.496793    None   \n",
       "1  0.953138  0.796922         0.804067      0.790271  181.339746    None   \n",
       "2  0.953224  0.796888         0.804704      0.789666  181.043571    None   \n",
       "3  0.952888  0.795990         0.803046      0.789549  178.471049    None   \n",
       "4  0.952730  0.795402         0.802126      0.789145  174.454477    None   \n",
       "\n",
       "  imputation  cat_age  merge_capital downsampling_method  ...  \\\n",
       "0       mode    False          False              random  ...   \n",
       "1       mode    False          False              random  ...   \n",
       "2       mode    False          False              random  ...   \n",
       "3       mode    False          False              random  ...   \n",
       "4       mode    False          False              random  ...   \n",
       "\n",
       "   remove_duplicates  iterations  depth  border_count  random_seed  verbose  \\\n",
       "0               True         750      6            32           42        0   \n",
       "1               True         750      4            96           42        0   \n",
       "2               True         750      4            96           42        0   \n",
       "3               True         750      4            64           42        0   \n",
       "4               True         750      4            32           42        0   \n",
       "\n",
       "   loss_function  eval_metric class_weights  \\\n",
       "0        Logloss           F1        [1, 1]   \n",
       "1        Logloss           F1        [1, 1]   \n",
       "2        Logloss          AUC        [1, 1]   \n",
       "3        Logloss           F1        [1, 1]   \n",
       "4        Logloss          AUC        [1, 1]   \n",
       "\n",
       "                                        cat_features  \n",
       "0  [class_worker, det_ind_code, det_occ_code, edu...  \n",
       "1  [class_worker, det_ind_code, det_occ_code, edu...  \n",
       "2  [class_worker, det_ind_code, det_occ_code, edu...  \n",
       "3  [class_worker, det_ind_code, det_occ_code, edu...  \n",
       "4  [class_worker, det_ind_code, det_occ_code, edu...  \n",
       "\n",
       "[5 rows x 22 columns]"
      ]
     },
     "execution_count": 5,
     "metadata": {},
     "output_type": "execute_result"
    }
   ],
   "source": [
    "df = pd.read_csv('./results/results_catboost.csv')\n",
    "for obj_col in ['prep_param', 'model_param']:\n",
    "    df[obj_col] = df[obj_col].apply(lambda x: ast.literal_eval(x))\n",
    "df.sort_values(by=['f1_macro'], inplace=True, ascending=False)\n",
    "df.drop_duplicates(subset=['f1_macro'], inplace=True)\n",
    "df_exp = expand_dicts(df)\n",
    "df_exp.head()"
   ]
  },
  {
   "cell_type": "code",
   "execution_count": 6,
   "metadata": {},
   "outputs": [
    {
     "ename": "FileNotFoundError",
     "evalue": "[Errno 2] No such file or directory: 'results_log_regression.csv'",
     "output_type": "error",
     "traceback": [
      "\u001b[1;31m---------------------------------------------------------------------------\u001b[0m",
      "\u001b[1;31mFileNotFoundError\u001b[0m                         Traceback (most recent call last)",
      "Cell \u001b[1;32mIn[6], line 1\u001b[0m\n\u001b[1;32m----> 1\u001b[0m df \u001b[39m=\u001b[39m pd\u001b[39m.\u001b[39;49mread_csv(\u001b[39m'\u001b[39;49m\u001b[39mresults_log_regression.csv\u001b[39;49m\u001b[39m'\u001b[39;49m)\n\u001b[0;32m      2\u001b[0m df\u001b[39m.\u001b[39msort_values(by\u001b[39m=\u001b[39m[\u001b[39m'\u001b[39m\u001b[39mf1_macro\u001b[39m\u001b[39m'\u001b[39m], inplace\u001b[39m=\u001b[39m\u001b[39mTrue\u001b[39;00m, ascending\u001b[39m=\u001b[39m\u001b[39mFalse\u001b[39;00m)\n\u001b[0;32m      3\u001b[0m df\u001b[39m.\u001b[39mhead()\n",
      "File \u001b[1;32mc:\\Users\\joels\\anaconda3\\envs\\aa1\\Lib\\site-packages\\pandas\\util\\_decorators.py:211\u001b[0m, in \u001b[0;36mdeprecate_kwarg.<locals>._deprecate_kwarg.<locals>.wrapper\u001b[1;34m(*args, **kwargs)\u001b[0m\n\u001b[0;32m    209\u001b[0m     \u001b[39melse\u001b[39;00m:\n\u001b[0;32m    210\u001b[0m         kwargs[new_arg_name] \u001b[39m=\u001b[39m new_arg_value\n\u001b[1;32m--> 211\u001b[0m \u001b[39mreturn\u001b[39;00m func(\u001b[39m*\u001b[39;49margs, \u001b[39m*\u001b[39;49m\u001b[39m*\u001b[39;49mkwargs)\n",
      "File \u001b[1;32mc:\\Users\\joels\\anaconda3\\envs\\aa1\\Lib\\site-packages\\pandas\\util\\_decorators.py:331\u001b[0m, in \u001b[0;36mdeprecate_nonkeyword_arguments.<locals>.decorate.<locals>.wrapper\u001b[1;34m(*args, **kwargs)\u001b[0m\n\u001b[0;32m    325\u001b[0m \u001b[39mif\u001b[39;00m \u001b[39mlen\u001b[39m(args) \u001b[39m>\u001b[39m num_allow_args:\n\u001b[0;32m    326\u001b[0m     warnings\u001b[39m.\u001b[39mwarn(\n\u001b[0;32m    327\u001b[0m         msg\u001b[39m.\u001b[39mformat(arguments\u001b[39m=\u001b[39m_format_argument_list(allow_args)),\n\u001b[0;32m    328\u001b[0m         \u001b[39mFutureWarning\u001b[39;00m,\n\u001b[0;32m    329\u001b[0m         stacklevel\u001b[39m=\u001b[39mfind_stack_level(),\n\u001b[0;32m    330\u001b[0m     )\n\u001b[1;32m--> 331\u001b[0m \u001b[39mreturn\u001b[39;00m func(\u001b[39m*\u001b[39;49margs, \u001b[39m*\u001b[39;49m\u001b[39m*\u001b[39;49mkwargs)\n",
      "File \u001b[1;32mc:\\Users\\joels\\anaconda3\\envs\\aa1\\Lib\\site-packages\\pandas\\io\\parsers\\readers.py:950\u001b[0m, in \u001b[0;36mread_csv\u001b[1;34m(filepath_or_buffer, sep, delimiter, header, names, index_col, usecols, squeeze, prefix, mangle_dupe_cols, dtype, engine, converters, true_values, false_values, skipinitialspace, skiprows, skipfooter, nrows, na_values, keep_default_na, na_filter, verbose, skip_blank_lines, parse_dates, infer_datetime_format, keep_date_col, date_parser, dayfirst, cache_dates, iterator, chunksize, compression, thousands, decimal, lineterminator, quotechar, quoting, doublequote, escapechar, comment, encoding, encoding_errors, dialect, error_bad_lines, warn_bad_lines, on_bad_lines, delim_whitespace, low_memory, memory_map, float_precision, storage_options)\u001b[0m\n\u001b[0;32m    935\u001b[0m kwds_defaults \u001b[39m=\u001b[39m _refine_defaults_read(\n\u001b[0;32m    936\u001b[0m     dialect,\n\u001b[0;32m    937\u001b[0m     delimiter,\n\u001b[1;32m   (...)\u001b[0m\n\u001b[0;32m    946\u001b[0m     defaults\u001b[39m=\u001b[39m{\u001b[39m\"\u001b[39m\u001b[39mdelimiter\u001b[39m\u001b[39m\"\u001b[39m: \u001b[39m\"\u001b[39m\u001b[39m,\u001b[39m\u001b[39m\"\u001b[39m},\n\u001b[0;32m    947\u001b[0m )\n\u001b[0;32m    948\u001b[0m kwds\u001b[39m.\u001b[39mupdate(kwds_defaults)\n\u001b[1;32m--> 950\u001b[0m \u001b[39mreturn\u001b[39;00m _read(filepath_or_buffer, kwds)\n",
      "File \u001b[1;32mc:\\Users\\joels\\anaconda3\\envs\\aa1\\Lib\\site-packages\\pandas\\io\\parsers\\readers.py:605\u001b[0m, in \u001b[0;36m_read\u001b[1;34m(filepath_or_buffer, kwds)\u001b[0m\n\u001b[0;32m    602\u001b[0m _validate_names(kwds\u001b[39m.\u001b[39mget(\u001b[39m\"\u001b[39m\u001b[39mnames\u001b[39m\u001b[39m\"\u001b[39m, \u001b[39mNone\u001b[39;00m))\n\u001b[0;32m    604\u001b[0m \u001b[39m# Create the parser.\u001b[39;00m\n\u001b[1;32m--> 605\u001b[0m parser \u001b[39m=\u001b[39m TextFileReader(filepath_or_buffer, \u001b[39m*\u001b[39;49m\u001b[39m*\u001b[39;49mkwds)\n\u001b[0;32m    607\u001b[0m \u001b[39mif\u001b[39;00m chunksize \u001b[39mor\u001b[39;00m iterator:\n\u001b[0;32m    608\u001b[0m     \u001b[39mreturn\u001b[39;00m parser\n",
      "File \u001b[1;32mc:\\Users\\joels\\anaconda3\\envs\\aa1\\Lib\\site-packages\\pandas\\io\\parsers\\readers.py:1442\u001b[0m, in \u001b[0;36mTextFileReader.__init__\u001b[1;34m(self, f, engine, **kwds)\u001b[0m\n\u001b[0;32m   1439\u001b[0m     \u001b[39mself\u001b[39m\u001b[39m.\u001b[39moptions[\u001b[39m\"\u001b[39m\u001b[39mhas_index_names\u001b[39m\u001b[39m\"\u001b[39m] \u001b[39m=\u001b[39m kwds[\u001b[39m\"\u001b[39m\u001b[39mhas_index_names\u001b[39m\u001b[39m\"\u001b[39m]\n\u001b[0;32m   1441\u001b[0m \u001b[39mself\u001b[39m\u001b[39m.\u001b[39mhandles: IOHandles \u001b[39m|\u001b[39m \u001b[39mNone\u001b[39;00m \u001b[39m=\u001b[39m \u001b[39mNone\u001b[39;00m\n\u001b[1;32m-> 1442\u001b[0m \u001b[39mself\u001b[39m\u001b[39m.\u001b[39m_engine \u001b[39m=\u001b[39m \u001b[39mself\u001b[39;49m\u001b[39m.\u001b[39;49m_make_engine(f, \u001b[39mself\u001b[39;49m\u001b[39m.\u001b[39;49mengine)\n",
      "File \u001b[1;32mc:\\Users\\joels\\anaconda3\\envs\\aa1\\Lib\\site-packages\\pandas\\io\\parsers\\readers.py:1735\u001b[0m, in \u001b[0;36mTextFileReader._make_engine\u001b[1;34m(self, f, engine)\u001b[0m\n\u001b[0;32m   1733\u001b[0m     \u001b[39mif\u001b[39;00m \u001b[39m\"\u001b[39m\u001b[39mb\u001b[39m\u001b[39m\"\u001b[39m \u001b[39mnot\u001b[39;00m \u001b[39min\u001b[39;00m mode:\n\u001b[0;32m   1734\u001b[0m         mode \u001b[39m+\u001b[39m\u001b[39m=\u001b[39m \u001b[39m\"\u001b[39m\u001b[39mb\u001b[39m\u001b[39m\"\u001b[39m\n\u001b[1;32m-> 1735\u001b[0m \u001b[39mself\u001b[39m\u001b[39m.\u001b[39mhandles \u001b[39m=\u001b[39m get_handle(\n\u001b[0;32m   1736\u001b[0m     f,\n\u001b[0;32m   1737\u001b[0m     mode,\n\u001b[0;32m   1738\u001b[0m     encoding\u001b[39m=\u001b[39;49m\u001b[39mself\u001b[39;49m\u001b[39m.\u001b[39;49moptions\u001b[39m.\u001b[39;49mget(\u001b[39m\"\u001b[39;49m\u001b[39mencoding\u001b[39;49m\u001b[39m\"\u001b[39;49m, \u001b[39mNone\u001b[39;49;00m),\n\u001b[0;32m   1739\u001b[0m     compression\u001b[39m=\u001b[39;49m\u001b[39mself\u001b[39;49m\u001b[39m.\u001b[39;49moptions\u001b[39m.\u001b[39;49mget(\u001b[39m\"\u001b[39;49m\u001b[39mcompression\u001b[39;49m\u001b[39m\"\u001b[39;49m, \u001b[39mNone\u001b[39;49;00m),\n\u001b[0;32m   1740\u001b[0m     memory_map\u001b[39m=\u001b[39;49m\u001b[39mself\u001b[39;49m\u001b[39m.\u001b[39;49moptions\u001b[39m.\u001b[39;49mget(\u001b[39m\"\u001b[39;49m\u001b[39mmemory_map\u001b[39;49m\u001b[39m\"\u001b[39;49m, \u001b[39mFalse\u001b[39;49;00m),\n\u001b[0;32m   1741\u001b[0m     is_text\u001b[39m=\u001b[39;49mis_text,\n\u001b[0;32m   1742\u001b[0m     errors\u001b[39m=\u001b[39;49m\u001b[39mself\u001b[39;49m\u001b[39m.\u001b[39;49moptions\u001b[39m.\u001b[39;49mget(\u001b[39m\"\u001b[39;49m\u001b[39mencoding_errors\u001b[39;49m\u001b[39m\"\u001b[39;49m, \u001b[39m\"\u001b[39;49m\u001b[39mstrict\u001b[39;49m\u001b[39m\"\u001b[39;49m),\n\u001b[0;32m   1743\u001b[0m     storage_options\u001b[39m=\u001b[39;49m\u001b[39mself\u001b[39;49m\u001b[39m.\u001b[39;49moptions\u001b[39m.\u001b[39;49mget(\u001b[39m\"\u001b[39;49m\u001b[39mstorage_options\u001b[39;49m\u001b[39m\"\u001b[39;49m, \u001b[39mNone\u001b[39;49;00m),\n\u001b[0;32m   1744\u001b[0m )\n\u001b[0;32m   1745\u001b[0m \u001b[39massert\u001b[39;00m \u001b[39mself\u001b[39m\u001b[39m.\u001b[39mhandles \u001b[39mis\u001b[39;00m \u001b[39mnot\u001b[39;00m \u001b[39mNone\u001b[39;00m\n\u001b[0;32m   1746\u001b[0m f \u001b[39m=\u001b[39m \u001b[39mself\u001b[39m\u001b[39m.\u001b[39mhandles\u001b[39m.\u001b[39mhandle\n",
      "File \u001b[1;32mc:\\Users\\joels\\anaconda3\\envs\\aa1\\Lib\\site-packages\\pandas\\io\\common.py:856\u001b[0m, in \u001b[0;36mget_handle\u001b[1;34m(path_or_buf, mode, encoding, compression, memory_map, is_text, errors, storage_options)\u001b[0m\n\u001b[0;32m    851\u001b[0m \u001b[39melif\u001b[39;00m \u001b[39misinstance\u001b[39m(handle, \u001b[39mstr\u001b[39m):\n\u001b[0;32m    852\u001b[0m     \u001b[39m# Check whether the filename is to be opened in binary mode.\u001b[39;00m\n\u001b[0;32m    853\u001b[0m     \u001b[39m# Binary mode does not support 'encoding' and 'newline'.\u001b[39;00m\n\u001b[0;32m    854\u001b[0m     \u001b[39mif\u001b[39;00m ioargs\u001b[39m.\u001b[39mencoding \u001b[39mand\u001b[39;00m \u001b[39m\"\u001b[39m\u001b[39mb\u001b[39m\u001b[39m\"\u001b[39m \u001b[39mnot\u001b[39;00m \u001b[39min\u001b[39;00m ioargs\u001b[39m.\u001b[39mmode:\n\u001b[0;32m    855\u001b[0m         \u001b[39m# Encoding\u001b[39;00m\n\u001b[1;32m--> 856\u001b[0m         handle \u001b[39m=\u001b[39m \u001b[39mopen\u001b[39m(\n\u001b[0;32m    857\u001b[0m             handle,\n\u001b[0;32m    858\u001b[0m             ioargs\u001b[39m.\u001b[39mmode,\n\u001b[0;32m    859\u001b[0m             encoding\u001b[39m=\u001b[39mioargs\u001b[39m.\u001b[39mencoding,\n\u001b[0;32m    860\u001b[0m             errors\u001b[39m=\u001b[39merrors,\n\u001b[0;32m    861\u001b[0m             newline\u001b[39m=\u001b[39m\u001b[39m\"\u001b[39m\u001b[39m\"\u001b[39m,\n\u001b[0;32m    862\u001b[0m         )\n\u001b[0;32m    863\u001b[0m     \u001b[39melse\u001b[39;00m:\n\u001b[0;32m    864\u001b[0m         \u001b[39m# Binary mode\u001b[39;00m\n\u001b[0;32m    865\u001b[0m         handle \u001b[39m=\u001b[39m \u001b[39mopen\u001b[39m(handle, ioargs\u001b[39m.\u001b[39mmode)\n",
      "\u001b[1;31mFileNotFoundError\u001b[0m: [Errno 2] No such file or directory: 'results_log_regression.csv'"
     ]
    }
   ],
   "source": [
    "df = pd.read_csv('results_log_regression.csv')\n",
    "df.sort_values(by=['f1_macro'], inplace=True, ascending=False)\n",
    "df.head()"
   ]
  },
  {
   "cell_type": "code",
   "execution_count": null,
   "metadata": {},
   "outputs": [
    {
     "data": {
      "text/plain": [
       "array([ 75, 100,  50], dtype=int64)"
      ]
     },
     "execution_count": 5,
     "metadata": {},
     "output_type": "execute_result"
    }
   ],
   "source": [
    "df = read_results('./results/results_rf.csv')\n",
    "df = expand_dicts(df)\n",
    "df['n_estimators'].unique()"
   ]
  },
  {
   "cell_type": "code",
   "execution_count": null,
   "metadata": {},
   "outputs": [],
   "source": [
    "df = pd.read_csv('results_svm.csv')\n",
    "df.sort_values(by=['f1_macro'], inplace=True, ascending=False)\n",
    "df.head()"
   ]
  },
  {
   "cell_type": "code",
   "execution_count": null,
   "metadata": {},
   "outputs": [],
   "source": [
    "df = pd.read_csv('results_catboost.csv')\n",
    "df.sort_values(by=['f1_macro'], inplace=True, ascending=False)\n",
    "df.head()"
   ]
  }
 ],
 "metadata": {
  "kernelspec": {
   "display_name": "aa1",
   "language": "python",
   "name": "python3"
  },
  "language_info": {
   "codemirror_mode": {
    "name": "ipython",
    "version": 3
   },
   "file_extension": ".py",
   "mimetype": "text/x-python",
   "name": "python",
   "nbconvert_exporter": "python",
   "pygments_lexer": "ipython3",
   "version": "3.11.0"
  },
  "orig_nbformat": 4
 },
 "nbformat": 4,
 "nbformat_minor": 2
}
