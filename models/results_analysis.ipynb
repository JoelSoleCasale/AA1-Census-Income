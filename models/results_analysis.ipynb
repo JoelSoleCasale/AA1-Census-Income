{
 "cells": [
  {
   "cell_type": "code",
   "execution_count": 1,
   "metadata": {},
   "outputs": [],
   "source": [
    "import pandas as pd\n",
    "import ast\n",
    "import os\n",
    "from pprint import pprint\n",
    "from auxiliar_func import *"
   ]
  },
  {
   "cell_type": "code",
   "execution_count": null,
   "metadata": {},
   "outputs": [],
   "source": [
    "# show the best params for all the files in the /results folder\n",
    "for file in os.listdir('./results'):\n",
    "    if file.endswith('.csv'):\n",
    "        print('='*20+file+'='*20)\n",
    "        prep_p, mod_p = get_best_params('./results/'+file)\n",
    "        prep_p = pd.DataFrame.from_dict(prep_p, orient='index', columns=['value'])\n",
    "        mod_p = pd.DataFrame.from_dict(mod_p, orient='index', columns=['value'])\n",
    "        print('Preprocessing best params:')\n",
    "        print(prep_p.head())\n",
    "        print('Model best params:')\n",
    "        print(mod_p.head())"
   ]
  },
  {
   "cell_type": "code",
   "execution_count": null,
   "metadata": {},
   "outputs": [],
   "source": [
    "df = pd.read_csv('./results/results_lda.csv')\n",
    "for obj_col in ['prep_param', 'model_param']:\n",
    "    df[obj_col] = df[obj_col].apply(lambda x: ast.literal_eval(x))\n",
    "df.sort_values(by=['f1_macro'], inplace=True, ascending=False)\n",
    "df.drop_duplicates(subset=['f1_macro'], inplace=True)\n",
    "df_exp = expand_dicts(df)\n",
    "df_exp.head()"
   ]
  },
  {
   "cell_type": "code",
   "execution_count": null,
   "metadata": {},
   "outputs": [],
   "source": [
    "df = pd.read_csv('results_log_regression.csv')\n",
    "df.sort_values(by=['f1_macro'], inplace=True, ascending=False)\n",
    "df.head()"
   ]
  },
  {
   "cell_type": "code",
   "execution_count": 5,
   "metadata": {},
   "outputs": [
    {
     "data": {
      "text/plain": [
       "array([ 75, 100,  50], dtype=int64)"
      ]
     },
     "execution_count": 5,
     "metadata": {},
     "output_type": "execute_result"
    }
   ],
   "source": [
    "df = read_results('./results/results_rf.csv')\n",
    "df = expand_dicts(df)\n",
    "df['n_estimators'].unique()"
   ]
  },
  {
   "cell_type": "code",
   "execution_count": null,
   "metadata": {},
   "outputs": [],
   "source": [
    "df = pd.read_csv('results_svm.csv')\n",
    "df.sort_values(by=['f1_macro'], inplace=True, ascending=False)\n",
    "df.head()"
   ]
  },
  {
   "cell_type": "code",
   "execution_count": null,
   "metadata": {},
   "outputs": [],
   "source": [
    "df = pd.read_csv('results_catboost.csv')\n",
    "df.sort_values(by=['f1_macro'], inplace=True, ascending=False)\n",
    "df.head()"
   ]
  }
 ],
 "metadata": {
  "kernelspec": {
   "display_name": "aa1",
   "language": "python",
   "name": "python3"
  },
  "language_info": {
   "codemirror_mode": {
    "name": "ipython",
    "version": 3
   },
   "file_extension": ".py",
   "mimetype": "text/x-python",
   "name": "python",
   "nbconvert_exporter": "python",
   "pygments_lexer": "ipython3",
   "version": "3.11.0"
  },
  "orig_nbformat": 4
 },
 "nbformat": 4,
 "nbformat_minor": 2
}
