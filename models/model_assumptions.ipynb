{
 "cells": [
  {
   "attachments": {},
   "cell_type": "markdown",
   "metadata": {},
   "source": [
    "# Model assumptions"
   ]
  },
  {
   "cell_type": "code",
   "execution_count": 5,
   "metadata": {},
   "outputs": [],
   "source": [
    "import pandas as pd\n",
    "from auxiliar_func import *\n",
    "from plot_func import *\n",
    "import os\n",
    "from sklearn.covariance import EmpiricalCovariance"
   ]
  },
  {
   "attachments": {},
   "cell_type": "markdown",
   "metadata": {},
   "source": [
    "In this notebook we are going to check if the assumptions made by the models are satisfied by our dataset"
   ]
  },
  {
   "cell_type": "code",
   "execution_count": 2,
   "metadata": {},
   "outputs": [],
   "source": [
    "target = 'income_50k'               # target variable\n",
    "df_tr = pd.read_csv('../train.csv') # training set\n",
    "\n",
    "TARGET_METRIC = 'f1_macro'          # metric to be used in the grid search\n",
    "SEED = 42                           # seed for reproducibility"
   ]
  },
  {
   "attachments": {},
   "cell_type": "markdown",
   "metadata": {},
   "source": [
    "### Discriminant Analysis"
   ]
  },
  {
   "cell_type": "code",
   "execution_count": 9,
   "metadata": {},
   "outputs": [
    {
     "name": "stdout",
     "output_type": "stream",
     "text": [
      "The maximum value of both covariance matrices is: 9.796603255272979\n",
      "The maximum difference between the covariance matrices is: 9.647528586502423\n",
      "The minimum difference between the covariance matrices is: 0.0\n",
      "Covariance matrices are equal with a delta error of 0.1: False\n"
     ]
    }
   ],
   "source": [
    "preprocessing_params = {}\n",
    "if os.path.exists('./results/results_lda.csv'):\n",
    "    preprocessing_params, _ = get_best_params('results/results_lda.csv')\n",
    "\n",
    "preprocessed_training = preprocessing(df_tr, **preprocessing_params)\n",
    "\n",
    "cov1 = EmpiricalCovariance().fit(preprocessed_training[preprocessed_training[target] == 0].drop(columns=target)).covariance_\n",
    "cov2 = EmpiricalCovariance().fit(preprocessed_training[preprocessed_training[target] == 1].drop(columns=target)).covariance_\n",
    "\n",
    "print(\"The maximum value of both covariance matrices is:\", max(np.max(np.abs(cov1)), np.max(np.abs(cov2))))\n",
    "print(\"The maximum difference between the covariance matrices is:\", np.max(np.abs(cov1 - cov2)))\n",
    "print(\"The minimum difference between the covariance matrices is:\", np.min(np.abs(cov1 - cov2)))\n",
    "\n",
    "print('Covariance matrices are equal with a delta error of 0.1:', np.allclose(cov1, cov2, atol=0.1))"
   ]
  }
 ],
 "metadata": {
  "kernelspec": {
   "display_name": "Python 3",
   "language": "python",
   "name": "python3"
  },
  "language_info": {
   "codemirror_mode": {
    "name": "ipython",
    "version": 3
   },
   "file_extension": ".py",
   "mimetype": "text/x-python",
   "name": "python",
   "nbconvert_exporter": "python",
   "pygments_lexer": "ipython3",
   "version": "3.11.3"
  },
  "orig_nbformat": 4
 },
 "nbformat": 4,
 "nbformat_minor": 2
}
