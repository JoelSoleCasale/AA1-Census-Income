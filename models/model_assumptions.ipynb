{
 "cells": [
  {
   "attachments": {},
   "cell_type": "markdown",
   "metadata": {},
   "source": [
    "# Model assumptions"
   ]
  },
  {
   "cell_type": "code",
   "execution_count": 1,
   "metadata": {},
   "outputs": [],
   "source": [
    "import pandas as pd\n",
    "from auxiliar_func import *\n",
    "from plot_func import *\n",
    "import os"
   ]
  },
  {
   "attachments": {},
   "cell_type": "markdown",
   "metadata": {},
   "source": [
    "In this notebook we are going to check if the assumptions made by the models are satisfied by our dataset"
   ]
  },
  {
   "cell_type": "code",
   "execution_count": 2,
   "metadata": {},
   "outputs": [],
   "source": [
    "target = 'income_50k'               # target variable\n",
    "df_tr = pd.read_csv('../train.csv') # training set"
   ]
  },
  {
   "attachments": {},
   "cell_type": "markdown",
   "metadata": {},
   "source": [
    "### Discriminant Analysis"
   ]
  },
  {
   "cell_type": "code",
   "execution_count": 15,
   "metadata": {},
   "outputs": [],
   "source": [
    "preprocessing_params = {}\n",
    "if os.path.exists('./results/results_lda.csv'):\n",
    "    preprocessing_params, _ = get_best_params('results/results_lda.csv')\n",
    "\n",
    "preproc_lda = preprocessing(df_tr, **preprocessing_params)"
   ]
  },
  {
   "attachments": {},
   "cell_type": "markdown",
   "metadata": {},
   "source": [
    "With all variables: "
   ]
  },
  {
   "cell_type": "code",
   "execution_count": 16,
   "metadata": {},
   "outputs": [
    {
     "name": "stdout",
     "output_type": "stream",
     "text": [
      "The maximum value of both covariance matrices is: 12.594888924778843\n",
      "The maximum difference between the covariance matrices is: 12.376619667775989\n",
      "The minimum difference between the covariance matrices is: 0.0\n",
      "Covariance matrices are equal with a delta error of 0.1: False\n"
     ]
    }
   ],
   "source": [
    "from sklearn.covariance import EmpiricalCovariance\n",
    "\n",
    "cov1 = EmpiricalCovariance().fit(preproc_lda[preproc_lda[target] == 0].drop(columns=target)).covariance_\n",
    "cov2 = EmpiricalCovariance().fit(preproc_lda[preproc_lda[target] == 1].drop(columns=target)).covariance_\n",
    "\n",
    "print(\"The maximum value of both covariance matrices is:\", max(np.max(np.abs(cov1)), np.max(np.abs(cov2))))\n",
    "print(\"The maximum difference between the covariance matrices is:\", np.max(np.abs(cov1 - cov2)))\n",
    "print(\"The minimum difference between the covariance matrices is:\", np.min(np.abs(cov1 - cov2)))\n",
    "\n",
    "print('Covariance matrices are equal with a delta error of 0.1:', np.allclose(cov1, cov2, atol=0.1))"
   ]
  },
  {
   "attachments": {},
   "cell_type": "markdown",
   "metadata": {},
   "source": [
    "Only numerical variables: "
   ]
  },
  {
   "cell_type": "code",
   "execution_count": 39,
   "metadata": {},
   "outputs": [
    {
     "name": "stdout",
     "output_type": "stream",
     "text": [
      "Bartlett test p-value: 0.0\n"
     ]
    }
   ],
   "source": [
    "from scipy.stats import bartlett\n",
    "\n",
    "preproc_lda_numerical = preproc_lda.select_dtypes(include=['int64', 'float64'])\n",
    "preproc_lda_numerical[target] = preproc_lda[target]\n",
    "\n",
    "class1 = preproc_lda_numerical[preproc_lda_numerical[target] == 0].drop(columns=target)\n",
    "class2 = preproc_lda_numerical[preproc_lda_numerical[target] == 1].drop(columns=target)\n",
    "\n",
    "bartlett_test = bartlett(*[class1[col] for col in class1.columns], *[class2[col] for col in class2.columns])\n",
    "print(\"Bartlett test p-value:\", bartlett_test.pvalue)\n",
    "\n",
    "# The null hypothesis of the Bartlett test is that all input samples are from populations with equal variances.\n",
    "# The p-value is very small, so we can reject the null hypothesis and conclude that the input samples are not from populations with equal variances."
   ]
  },
  {
   "attachments": {},
   "cell_type": "markdown",
   "metadata": {},
   "source": [
    "### Logistic regression"
   ]
  },
  {
   "cell_type": "code",
   "execution_count": 3,
   "metadata": {},
   "outputs": [],
   "source": [
    "preprocessing_params = {}\n",
    "if os.path.exists('./results/results_logreg.csv'):\n",
    "    preprocessing_params, _ = get_best_params('results/results_logreg.csv')\n",
    "\n",
    "preproc_logreg = preprocessing(df_tr, **preprocessing_params)"
   ]
  },
  {
   "attachments": {},
   "cell_type": "markdown",
   "metadata": {},
   "source": [
    "It assumes that there is minimal or no multicolinearity among the independent variables"
   ]
  },
  {
   "cell_type": "code",
   "execution_count": 10,
   "metadata": {},
   "outputs": [
    {
     "name": "stdout",
     "output_type": "stream",
     "text": [
      "   VIF Factor         features\n",
      "0    1.030398    wage_per_hour\n",
      "1    1.026089    capital_gains\n",
      "2    1.011783   capital_losses\n",
      "3    1.017805  stock_dividends\n",
      "4    1.872908          num_emp\n",
      "5    1.891849     weeks_worked\n"
     ]
    }
   ],
   "source": [
    "from statsmodels.stats.outliers_influence import variance_inflation_factor\n",
    "\n",
    "# get only numerical columns\n",
    "preproc_logreg_numerical = preproc_logreg.select_dtypes(include=['float64', 'int64'])\n",
    "\n",
    "# calculate VIF for each feature\n",
    "vif = pd.DataFrame()\n",
    "vif[\"VIF Factor\"] = [variance_inflation_factor(preproc_logreg_numerical.values, i) for i in range(preproc_logreg_numerical.shape[1])]\n",
    "vif[\"features\"] = preproc_logreg_numerical.columns\n",
    "\n",
    "print(vif)\n"
   ]
  },
  {
   "attachments": {},
   "cell_type": "markdown",
   "metadata": {},
   "source": [
    "It usually requires a larga sample size to predict properly"
   ]
  },
  {
   "cell_type": "code",
   "execution_count": 5,
   "metadata": {},
   "outputs": [
    {
     "data": {
      "text/plain": [
       "(58339, 483)"
      ]
     },
     "execution_count": 5,
     "metadata": {},
     "output_type": "execute_result"
    }
   ],
   "source": [
    "preproc_logreg.shape"
   ]
  },
  {
   "attachments": {},
   "cell_type": "markdown",
   "metadata": {},
   "source": [
    "It assumes independent observations"
   ]
  },
  {
   "cell_type": "code",
   "execution_count": 6,
   "metadata": {},
   "outputs": [
    {
     "name": "stdout",
     "output_type": "stream",
     "text": [
      "There are duplicated rows: False\n"
     ]
    }
   ],
   "source": [
    "# check if there are duplicated rows\n",
    "print('There are duplicated rows:', preproc_logreg.duplicated().any())"
   ]
  }
 ],
 "metadata": {
  "kernelspec": {
   "display_name": "Python 3",
   "language": "python",
   "name": "python3"
  },
  "language_info": {
   "codemirror_mode": {
    "name": "ipython",
    "version": 3
   },
   "file_extension": ".py",
   "mimetype": "text/x-python",
   "name": "python",
   "nbconvert_exporter": "python",
   "pygments_lexer": "ipython3",
   "version": "3.11.3"
  },
  "orig_nbformat": 4
 },
 "nbformat": 4,
 "nbformat_minor": 2
}
