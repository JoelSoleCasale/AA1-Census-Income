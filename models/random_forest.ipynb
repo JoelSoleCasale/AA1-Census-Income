{
 "cells": [
  {
   "cell_type": "code",
   "execution_count": 4,
   "metadata": {},
   "outputs": [],
   "source": [
    "import pandas as pd\n",
    "import matplotlib.pyplot as plt\n",
    "import numpy as np\n",
    "import seaborn as sns\n",
    "import itertools\n",
    "import time\n",
    "\n",
    "from sklearn.ensemble import RandomForestClassifier\n",
    "from sklearn.model_selection import GridSearchCV\n",
    "from sklearn.model_selection import train_test_split\n",
    "from sklearn.metrics import accuracy_score, confusion_matrix, classification_report\n",
    "from auxiliar_func import *\n",
    "from plot_func import *"
   ]
  },
  {
   "cell_type": "code",
   "execution_count": 5,
   "metadata": {},
   "outputs": [],
   "source": [
    "df = pd.read_csv('Census-Income-KDD.csv')\n",
    "target = 'income_50k'\n",
    "df_tr, df_te = train_test_split(df, test_size=0.3, random_state=42)"
   ]
  },
  {
   "attachments": {},
   "cell_type": "markdown",
   "metadata": {},
   "source": [
    "## Finding the best preprocessing parameters"
   ]
  },
  {
   "cell_type": "code",
   "execution_count": 6,
   "metadata": {},
   "outputs": [
    {
     "name": "stderr",
     "output_type": "stream",
     "text": [
      "c:\\Users\\joels\\python-programs\\GitHub\\AA1-Census-Income\\auxiliar_func.py:202: FutureWarning: In a future version, object-dtype columns with all-bool values will not be included in reductions with bool_only=True. Explicitly cast to bool dtype instead.\n",
      "  results = pd.concat([results, pd.DataFrame([list(combination) + list(cross_val_results.values())],\n",
      "c:\\Users\\joels\\python-programs\\GitHub\\AA1-Census-Income\\auxiliar_func.py:202: FutureWarning: In a future version, object-dtype columns with all-bool values will not be included in reductions with bool_only=True. Explicitly cast to bool dtype instead.\n",
      "  results = pd.concat([results, pd.DataFrame([list(combination) + list(cross_val_results.values())],\n",
      "c:\\Users\\joels\\python-programs\\GitHub\\AA1-Census-Income\\auxiliar_func.py:202: FutureWarning: In a future version, object-dtype columns with all-bool values will not be included in reductions with bool_only=True. Explicitly cast to bool dtype instead.\n",
      "  results = pd.concat([results, pd.DataFrame([list(combination) + list(cross_val_results.values())],\n",
      "c:\\Users\\joels\\python-programs\\GitHub\\AA1-Census-Income\\auxiliar_func.py:202: FutureWarning: In a future version, object-dtype columns with all-bool values will not be included in reductions with bool_only=True. Explicitly cast to bool dtype instead.\n",
      "  results = pd.concat([results, pd.DataFrame([list(combination) + list(cross_val_results.values())],\n",
      "c:\\Users\\joels\\python-programs\\GitHub\\AA1-Census-Income\\auxiliar_func.py:202: FutureWarning: In a future version, object-dtype columns with all-bool values will not be included in reductions with bool_only=True. Explicitly cast to bool dtype instead.\n",
      "  results = pd.concat([results, pd.DataFrame([list(combination) + list(cross_val_results.values())],\n",
      "c:\\Users\\joels\\python-programs\\GitHub\\AA1-Census-Income\\auxiliar_func.py:202: FutureWarning: In a future version, object-dtype columns with all-bool values will not be included in reductions with bool_only=True. Explicitly cast to bool dtype instead.\n",
      "  results = pd.concat([results, pd.DataFrame([list(combination) + list(cross_val_results.values())],\n",
      "c:\\Users\\joels\\python-programs\\GitHub\\AA1-Census-Income\\auxiliar_func.py:202: FutureWarning: In a future version, object-dtype columns with all-bool values will not be included in reductions with bool_only=True. Explicitly cast to bool dtype instead.\n",
      "  results = pd.concat([results, pd.DataFrame([list(combination) + list(cross_val_results.values())],\n",
      "c:\\Users\\joels\\python-programs\\GitHub\\AA1-Census-Income\\auxiliar_func.py:202: FutureWarning: In a future version, object-dtype columns with all-bool values will not be included in reductions with bool_only=True. Explicitly cast to bool dtype instead.\n",
      "  results = pd.concat([results, pd.DataFrame([list(combination) + list(cross_val_results.values())],\n",
      "c:\\Users\\joels\\python-programs\\GitHub\\AA1-Census-Income\\auxiliar_func.py:202: FutureWarning: In a future version, object-dtype columns with all-bool values will not be included in reductions with bool_only=True. Explicitly cast to bool dtype instead.\n",
      "  results = pd.concat([results, pd.DataFrame([list(combination) + list(cross_val_results.values())],\n",
      "c:\\Users\\joels\\python-programs\\GitHub\\AA1-Census-Income\\auxiliar_func.py:202: FutureWarning: In a future version, object-dtype columns with all-bool values will not be included in reductions with bool_only=True. Explicitly cast to bool dtype instead.\n",
      "  results = pd.concat([results, pd.DataFrame([list(combination) + list(cross_val_results.values())],\n",
      "c:\\Users\\joels\\python-programs\\GitHub\\AA1-Census-Income\\auxiliar_func.py:202: FutureWarning: In a future version, object-dtype columns with all-bool values will not be included in reductions with bool_only=True. Explicitly cast to bool dtype instead.\n",
      "  results = pd.concat([results, pd.DataFrame([list(combination) + list(cross_val_results.values())],\n"
     ]
    }
   ],
   "source": [
    "params = {\n",
    "    'scaling': [None],\n",
    "    'imputation': ['mode', 'nancat'],\n",
    "    'cat_age': [False, True],\n",
    "    'target_freq': [0.8, 0.9, 1.0]\n",
    "}\n",
    "\n",
    "rf = RandomForestClassifier(random_state=42, n_estimators=65, max_depth=25, n_jobs=-1, class_weight={0: 1, 1: 2.5})\n",
    "results = test_preprocess_params(df_tr, rf, params, verbose=0)\n",
    "\n",
    "results.to_csv('results_rf.csv', index=False)"
   ]
  },
  {
   "cell_type": "code",
   "execution_count": 3,
   "metadata": {},
   "outputs": [
    {
     "data": {
      "text/plain": [
       "((43975, 474), (59857, 474))"
      ]
     },
     "execution_count": 3,
     "metadata": {},
     "output_type": "execute_result"
    }
   ],
   "source": [
    "df_tr_pre = preprocessing(df_tr, scaling=None, imputation='mode', cat_age=False, target_freq=0.8)\n",
    "df_te_pre = preprocessing(df_te, scaling=None, imputation='mode', cat_age=False, remove_duplicates=False)\n",
    "\n",
    "df_tr_pre, df_te_pre = df_tr_pre.align(df_te_pre, join='left', axis=1, fill_value=0)\n",
    "df_tr_pre.shape, df_te_pre.shape"
   ]
  },
  {
   "attachments": {},
   "cell_type": "markdown",
   "metadata": {},
   "source": [
    "## Adjusting a random forest model"
   ]
  },
  {
   "cell_type": "code",
   "execution_count": 7,
   "metadata": {},
   "outputs": [
    {
     "name": "stdout",
     "output_type": "stream",
     "text": [
      "{'class_weight': {0: 1, 1: 2.5}, 'max_depth': 25, 'n_estimators': 65}\n",
      "0.7101832908978478\n"
     ]
    }
   ],
   "source": [
    "X_train, y_train = df_tr_pre.drop(target, axis=1), df_tr_pre[target]\n",
    "X_test, y_test = df_te_pre.drop(target, axis=1), df_te_pre[target]\n",
    "\n",
    "# find the best parameters for the model\n",
    "params = {\n",
    "    'n_estimators': [35, 40, 45, 50, 55, 60, 65, 70],\n",
    "    'max_depth': [10, 15, 20, 25, 30, 35],\n",
    "    'class_weight': [{0: 1, 1: 2}, {0: 1, 1: 2.5}, {0: 1, 1: 3}, {0: 1, 1: 3.5}, {0: 1, 1: 4}]\n",
    "}\n",
    "\n",
    "rf = RandomForestClassifier(random_state=42, n_jobs=-1)\n",
    "grid = GridSearchCV(rf, params, scoring='f1', n_jobs=-1, cv=5)\n",
    "grid.fit(X_train, y_train)\n",
    "\n",
    "print(grid.best_params_)\n",
    "print(grid.best_score_)"
   ]
  },
  {
   "cell_type": "code",
   "execution_count": 8,
   "metadata": {},
   "outputs": [
    {
     "name": "stdout",
     "output_type": "stream",
     "text": [
      "              precision    recall  f1-score   support\n",
      "\n",
      "           0       0.98      0.94      0.96     56275\n",
      "           1       0.45      0.72      0.55      3582\n",
      "\n",
      "    accuracy                           0.93     59857\n",
      "   macro avg       0.72      0.83      0.76     59857\n",
      "weighted avg       0.95      0.93      0.94     59857\n",
      "\n"
     ]
    }
   ],
   "source": [
    "# get f1 score for the test set\n",
    "y_pred = grid.predict(X_test)\n",
    "print(classification_report(y_test, y_pred))"
   ]
  }
 ],
 "metadata": {
  "kernelspec": {
   "display_name": "aa1",
   "language": "python",
   "name": "python3"
  },
  "language_info": {
   "codemirror_mode": {
    "name": "ipython",
    "version": 3
   },
   "file_extension": ".py",
   "mimetype": "text/x-python",
   "name": "python",
   "nbconvert_exporter": "python",
   "pygments_lexer": "ipython3",
   "version": "3.11.0"
  },
  "orig_nbformat": 4
 },
 "nbformat": 4,
 "nbformat_minor": 2
}
