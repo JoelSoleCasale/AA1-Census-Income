{
 "cells": [
  {
   "cell_type": "code",
   "execution_count": 1,
   "metadata": {},
   "outputs": [],
   "source": [
    "import pandas as pd\n",
    "import matplotlib.pyplot as plt\n",
    "import numpy as np\n",
    "import warnings\n",
    "from pprint import pprint\n",
    "\n",
    "# Importing the models to be tested\n",
    "from sklearn.discriminant_analysis import LinearDiscriminantAnalysis as LDA\n",
    "from sklearn.linear_model import LogisticRegression\n",
    "from sklearn.svm import LinearSVC\n",
    "from sklearn.ensemble import RandomForestClassifier\n",
    "from catboost import CatBoostClassifier, Pool\n",
    "\n",
    "\n",
    "from sklearn.model_selection import train_test_split\n",
    "from sklearn.metrics import accuracy_score, confusion_matrix, classification_report\n",
    "from auxiliar_func import *\n",
    "from plot_func import *"
   ]
  },
  {
   "cell_type": "code",
   "execution_count": 4,
   "metadata": {},
   "outputs": [],
   "source": [
    "df = pd.read_csv('Census-Income-KDD.csv')\n",
    "target = 'income_50k'\n",
    "df_tr, df_te = train_test_split(df, test_size=0.3, random_state=42)\n",
    "df_tr = df_tr[:1000]\n",
    "\n",
    "TARGET_METRIC = 'f1_macro'\n",
    "SEED = 42\n",
    "\n",
    "prep_params_grid = {\n",
    "    'scaling': [None, 'minmax', 'standard'],\n",
    "    'imputation': ['mode', 'nancat'],\n",
    "    'cat_age': [False, True],\n",
    "    'target_freq': [0.75, 0.8, 0.85],\n",
    "    'generate_dummies': [True]\n",
    "}\n",
    "\n",
    "def n_comb(grid: dict, print_=True):\n",
    "    n = 1\n",
    "    for k in grid.keys():\n",
    "        n *= len(grid[k])\n",
    "    if print_:\n",
    "        print(f'Number of model combinations to be tested: {n}')\n",
    "    else:\n",
    "        return n"
   ]
  },
  {
   "attachments": {},
   "cell_type": "markdown",
   "metadata": {},
   "source": [
    "### Tuning parameters for LDA"
   ]
  },
  {
   "cell_type": "code",
   "execution_count": 14,
   "metadata": {},
   "outputs": [
    {
     "name": "stdout",
     "output_type": "stream",
     "text": [
      "Number of model combinations to be tested: 36\n"
     ]
    }
   ],
   "source": [
    "mod_par_grid = {\n",
    "    'solver': ['svd', 'lsqr', 'eigen'],\n",
    "    'shrinkage': [None, 'auto'],\n",
    "    'store_covariance': [True, False],\n",
    "    'tol': [1e-4, 1e-3, 1e-2],\n",
    "}\n",
    "\n",
    "n_comb(mod_par_grid)\n",
    "\n",
    "lda = LDA()\n",
    "\n",
    "results = search_best_combination(lda, mod_par_grid, prep_params_grid, df_tr, target_metric=TARGET_METRIC)\n",
    "results.to_csv('results_lda.csv', index=False)"
   ]
  },
  {
   "attachments": {},
   "cell_type": "markdown",
   "metadata": {},
   "source": [
    "### Tuning parameters for logistic regression"
   ]
  },
  {
   "cell_type": "code",
   "execution_count": 5,
   "metadata": {},
   "outputs": [
    {
     "name": "stdout",
     "output_type": "stream",
     "text": [
      "Number of model combinations to be tested: 288\n"
     ]
    }
   ],
   "source": [
    "mod_par_grid = {\n",
    "    'penalty': ['l1', 'l2', 'elasticnet', None],\n",
    "    'C': [0.1, 1, 10],\n",
    "    'class_weight': [None, 'balanced'],\n",
    "    'fit_intercept': [True, False],\n",
    "    'intercept_scaling': [0.1, 1, 10],\n",
    "    'max_iter': [1000],\n",
    "    'multi_class': ['auto'],\n",
    "    'random_state': [SEED],\n",
    "    'solver': ['saga']\n",
    "}\n",
    "\n",
    "n_comb(mod_par_grid)\n",
    "\n",
    "logreg = LogisticRegression()\n",
    "with warnings.catch_warnings():\n",
    "    warnings.simplefilter(\"ignore\")\n",
    "    results = search_best_combination(logreg, mod_par_grid, prep_params_grid, df_tr, target_metric=TARGET_METRIC)\n",
    "results.to_csv('results_log_regression.csv', index=False)"
   ]
  },
  {
   "attachments": {},
   "cell_type": "markdown",
   "metadata": {},
   "source": [
    "### Tuning parameters for SVM"
   ]
  },
  {
   "cell_type": "code",
   "execution_count": 7,
   "metadata": {},
   "outputs": [
    {
     "name": "stdout",
     "output_type": "stream",
     "text": [
      "Number of model combinations to be tested: 96\n"
     ]
    }
   ],
   "source": [
    "mod_par_grid = {\n",
    "    'penalty': ['l1', 'l2'],\n",
    "    'loss': ['squared_hinge','hinge'],\n",
    "    'dual': [False],\n",
    "    'C': [0.1, 1, 10],\n",
    "    'fit_intercept': [True, False],\n",
    "    'intercept_scaling': [0.1, 1],\n",
    "    'class_weight': [None, 'balanced'],\n",
    "    'max_iter': [1000],\n",
    "    'random_state': [SEED]\n",
    "}\n",
    "\n",
    "n_comb(mod_par_grid)\n",
    "\n",
    "svm = LinearSVC()\n",
    "\n",
    "with warnings.catch_warnings():\n",
    "    warnings.simplefilter(\"ignore\")\n",
    "    results = search_best_combination(svm, mod_par_grid, prep_params_grid, df_tr, target_metric=TARGET_METRIC, verbose=2)\n",
    "results.to_csv('results_svm.csv', index=False)"
   ]
  },
  {
   "attachments": {},
   "cell_type": "markdown",
   "metadata": {},
   "source": [
    "### Tuning parameters for random forest"
   ]
  },
  {
   "cell_type": "code",
   "execution_count": 8,
   "metadata": {},
   "outputs": [
    {
     "name": "stdout",
     "output_type": "stream",
     "text": [
      "Number of model combinations to be tested: 192\n"
     ]
    }
   ],
   "source": [
    "mod_par_grid = {\n",
    "    'n_estimators': [50, 75, 100],\n",
    "    'criterion': ['gini', 'entropy'],\n",
    "    'max_depth': [None, 20, 25, 30],\n",
    "    'max_features': ['sqrt', 'log2'],\n",
    "    'random_state': [SEED],\n",
    "    'verbose': [0],\n",
    "    'warm_start': [False],\n",
    "    'class_weight': [None, 'balanced', 'balanced_subsample'],\n",
    "}\n",
    "\n",
    "n_comb(mod_par_grid)\n",
    "\n",
    "rf = RandomForestClassifier()\n",
    "\n",
    "results = search_best_combination(rf, mod_par_grid, prep_params_grid, df_tr, target_metric=TARGET_METRIC)\n",
    "results.to_csv('results_rf.csv', index=False)"
   ]
  },
  {
   "attachments": {},
   "cell_type": "markdown",
   "metadata": {},
   "source": [
    "### Tuning parameters for catboost"
   ]
  },
  {
   "cell_type": "code",
   "execution_count": 19,
   "metadata": {},
   "outputs": [
    {
     "name": "stdout",
     "output_type": "stream",
     "text": [
      "Number of model combinations to be tested: 54\n"
     ]
    }
   ],
   "source": [
    "prep_params_grid2 = {\n",
    "    'scaling': [None],\n",
    "    'imputation': ['mode'],\n",
    "    'cat_age': [False],\n",
    "    'target_freq': [0.75, 0.8, 0.85],\n",
    "    'generate_dummies': [False]\n",
    "}\n",
    "\n",
    "# a first preprocess to get the categorical features\n",
    "df_tr_pre = preprocessing(df_tr, imputation='mode', cat_age=False, generate_dummies=False)\n",
    "X_train, y_train = df_tr_pre.drop(target, axis=1), df_tr_pre[target]\n",
    "cat_features = list(X_train.select_dtypes(include=['category']).columns)\n",
    "\n",
    "mod_par_grid = {\n",
    "    'iterations': [500],\n",
    "    'depth': [6, 8, 10],\n",
    "    'border_count': [32, 64, 128],\n",
    "    'random_seed': [SEED],\n",
    "    'verbose': [0],\n",
    "    'loss_function': ['Logloss'],\n",
    "    'eval_metric': ['F1', 'AUC'],\n",
    "    'class_weights': [[1, 1], [1, 2], [1, 3]],\n",
    "    'cat_features': [cat_features],\n",
    "}\n",
    "\n",
    "n_comb(mod_par_grid)\n",
    "\n",
    "cat_model = CatBoostClassifier()\n",
    "\n",
    "results = search_best_combination(cat_model, mod_par_grid, prep_params_grid2, df_tr, target_metric=TARGET_METRIC, verbose=9)\n",
    "results.to_csv('results_catboost.csv', index=False)"
   ]
  },
  {
   "cell_type": "code",
   "execution_count": 18,
   "metadata": {},
   "outputs": [
    {
     "data": {
      "text/plain": [
       "0      F1\n",
       "1     AUC\n",
       "2      F1\n",
       "3     AUC\n",
       "4      F1\n",
       "     ... \n",
       "80     F1\n",
       "81     F1\n",
       "82    AUC\n",
       "83    AUC\n",
       "84     F1\n",
       "Name: eval_metric, Length: 85, dtype: object"
      ]
     },
     "execution_count": 18,
     "metadata": {},
     "output_type": "execute_result"
    }
   ],
   "source": [
    "expanded_results = expand_dicts(results)"
   ]
  }
 ],
 "metadata": {
  "kernelspec": {
   "display_name": "aa1",
   "language": "python",
   "name": "python3"
  },
  "language_info": {
   "codemirror_mode": {
    "name": "ipython",
    "version": 3
   },
   "file_extension": ".py",
   "mimetype": "text/x-python",
   "name": "python",
   "nbconvert_exporter": "python",
   "pygments_lexer": "ipython3",
   "version": "3.11.0"
  },
  "orig_nbformat": 4
 },
 "nbformat": 4,
 "nbformat_minor": 2
}
