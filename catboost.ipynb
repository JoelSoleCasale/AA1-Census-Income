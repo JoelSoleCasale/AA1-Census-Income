{
 "cells": [
  {
   "cell_type": "code",
   "execution_count": 1,
   "metadata": {},
   "outputs": [],
   "source": [
    "import pandas as pd\n",
    "import matplotlib.pyplot as plt\n",
    "import numpy as np\n",
    "from pprint import pprint\n",
    "\n",
    "from catboost import CatBoostClassifier\n",
    "from sklearn.model_selection import GridSearchCV\n",
    "from sklearn.svm import LinearSVC\n",
    "from sklearn.model_selection import train_test_split\n",
    "from sklearn.metrics import accuracy_score, confusion_matrix, classification_report\n",
    "from auxiliar_func import *\n",
    "from plot_func import *"
   ]
  },
  {
   "cell_type": "code",
   "execution_count": 2,
   "metadata": {},
   "outputs": [],
   "source": [
    "df = pd.read_csv('Census-Income-KDD.csv')\n",
    "target = 'income_50k'\n",
    "df_tr, df_te = train_test_split(df, test_size=0.3, random_state=42)"
   ]
  },
  {
   "attachments": {},
   "cell_type": "markdown",
   "metadata": {},
   "source": [
    "## Metrics of the final catboost model"
   ]
  },
  {
   "cell_type": "code",
   "execution_count": 5,
   "metadata": {},
   "outputs": [
    {
     "name": "stderr",
     "output_type": "stream",
     "text": [
      "Default metric period is 5 because AUC is/are not implemented for GPU\n",
      "Default metric period is 5 because AUC is/are not implemented for GPU\n",
      "Default metric period is 5 because AUC is/are not implemented for GPU\n",
      "Default metric period is 5 because AUC is/are not implemented for GPU\n",
      "Default metric period is 5 because AUC is/are not implemented for GPU\n"
     ]
    },
    {
     "name": "stdout",
     "output_type": "stream",
     "text": [
      "{'accuracy': 0.947338650770351,\n",
      " 'f1_macro': 0.7941872977686797,\n",
      " 'precision_macro': 0.7737583673527599,\n",
      " 'recall_macro': 0.8190847030701803}\n"
     ]
    }
   ],
   "source": [
    "prep_params = {\n",
    "    'scaling': None,\n",
    "    'imputation': 'mode',\n",
    "    'cat_age': False,\n",
    "    'target_freq': 0.8,\n",
    "    'generate_dummies': False\n",
    "}\n",
    "\n",
    "# a first preprocess to get the categorical features\n",
    "df_tr_pre = preprocessing(df_tr, scaling=None, imputation='mode', cat_age=False, target_freq=0.8, generate_dummies=False)\n",
    "X_train, y_train = df_tr_pre.drop(target, axis=1), df_tr_pre[target]\n",
    "cat_features = list(X_train.select_dtypes(include=['category']).columns)\n",
    "\n",
    "cat_model = CatBoostClassifier(\n",
    "    iterations=1000,\n",
    "    learning_rate=0.1,\n",
    "    depth=6,\n",
    "    loss_function='Logloss',\n",
    "    eval_metric='AUC',\n",
    "    random_seed=42,\n",
    "    logging_level='Silent',\n",
    "    cat_features=cat_features,\n",
    "    verbose=False\n",
    ")\n",
    "\n",
    "pprint(cross_validation(cat_model, df_tr, prep_params, cv=5))"
   ]
  }
 ],
 "metadata": {
  "kernelspec": {
   "display_name": "aa1",
   "language": "python",
   "name": "python3"
  },
  "language_info": {
   "codemirror_mode": {
    "name": "ipython",
    "version": 3
   },
   "file_extension": ".py",
   "mimetype": "text/x-python",
   "name": "python",
   "nbconvert_exporter": "python",
   "pygments_lexer": "ipython3",
   "version": "3.11.0"
  },
  "orig_nbformat": 4
 },
 "nbformat": 4,
 "nbformat_minor": 2
}
