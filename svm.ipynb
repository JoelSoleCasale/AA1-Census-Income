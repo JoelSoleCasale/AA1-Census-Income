{
 "cells": [
  {
   "cell_type": "code",
   "execution_count": 1,
   "metadata": {},
   "outputs": [],
   "source": [
    "import pandas as pd\n",
    "import matplotlib.pyplot as plt\n",
    "import numpy as np\n",
    "import seaborn as sns\n",
    "import itertools\n",
    "import time\n",
    "\n",
    "from sklearn.ensemble import RandomForestClassifier\n",
    "from sklearn.model_selection import GridSearchCV\n",
    "from sklearn.svm import LinearSVC\n",
    "from sklearn.model_selection import train_test_split\n",
    "from sklearn.metrics import accuracy_score, confusion_matrix, classification_report\n",
    "from auxiliar_func import *\n",
    "from plot_func import *"
   ]
  },
  {
   "cell_type": "code",
   "execution_count": 2,
   "metadata": {},
   "outputs": [],
   "source": [
    "df = pd.read_csv('Census-Income-KDD.csv')\n",
    "target = 'income_50k'\n",
    "df_tr, df_te = train_test_split(df, test_size=0.3, random_state=42)"
   ]
  },
  {
   "cell_type": "code",
   "execution_count": 4,
   "metadata": {},
   "outputs": [
    {
     "name": "stdout",
     "output_type": "stream",
     "text": [
      "Adjusting for (None, 'mode', False, 0.8)\n",
      "Adjusting for (None, 'mode', False, 0.9)\n",
      "Adjusting for (None, 'mode', False, 1.0)\n",
      "Adjusting for (None, 'mode', True, 0.8)\n",
      "Adjusting for (None, 'mode', True, 0.9)\n",
      "Adjusting for (None, 'mode', True, 1.0)\n"
     ]
    }
   ],
   "source": [
    "params = {\n",
    "    'scaling': [None],\n",
    "    'imputation': ['mode'],\n",
    "    'cat_age': [False, True],\n",
    "    'target_freq': [0.8, 0.9, 1.0]\n",
    "}\n",
    "\n",
    "svm = LinearSVC(random_state=42, max_iter=10000, dual=False)\n",
    "results = test_preprocess_params(df_tr, svm, params)\n",
    "\n",
    "results.to_csv('results_svm.csv', index=False)"
   ]
  },
  {
   "cell_type": "code",
   "execution_count": 5,
   "metadata": {},
   "outputs": [
    {
     "name": "stdout",
     "output_type": "stream",
     "text": [
      "Best params:  {'C': 0.1, 'class_weight': {0: 1, 1: 1.5}, 'penalty': 'l1'}\n",
      "Best score:  0.8180948891504711\n",
      "Test score:  0.756865182625934\n"
     ]
    }
   ],
   "source": [
    "df_tr_pre = preprocessing(df_tr, scaling=None, imputation='mode', cat_age=False, target_freq=0.8)\n",
    "df_te_pre = preprocessing(df_te, scaling=None, imputation='mode', cat_age=False, remove_duplicates=False)\n",
    "\n",
    "df_tr_pre, df_te_pre = df_tr_pre.align(df_te_pre, join='left', axis=1, fill_value=0)\n",
    "\n",
    "X_train, y_train = df_tr_pre.drop(target, axis=1), df_tr_pre[target]\n",
    "X_test, y_test = df_te_pre.drop(target, axis=1), df_te_pre[target]\n",
    "\n",
    "# adjust a svm model\n",
    "params = {\n",
    "    'C': [0.05, 0.1, 1, 10, 100, 1000],\n",
    "    'penalty': ['l1', 'l2'],\n",
    "    'class_weight': [{0: 1, 1: 1}, {0: 1, 1: 1.5}, {0: 1, 1: 2}, {0: 1, 1: 2.5}, {0: 1, 1: 3}]\n",
    "}\n",
    "\n",
    "svm = LinearSVC(random_state=42, max_iter=10000, dual=False)\n",
    "svm = GridSearchCV(svm, params, cv=5, scoring='f1_macro', n_jobs=-1)\n",
    "svm.fit(X_train, y_train)\n",
    "\n",
    "print('Best params: ', svm.best_params_)\n",
    "print('Best score: ', svm.best_score_)\n",
    "print('Test score: ', svm.score(X_test, y_test))"
   ]
  }
 ],
 "metadata": {
  "kernelspec": {
   "display_name": "aa1",
   "language": "python",
   "name": "python3"
  },
  "language_info": {
   "codemirror_mode": {
    "name": "ipython",
    "version": 3
   },
   "file_extension": ".py",
   "mimetype": "text/x-python",
   "name": "python",
   "nbconvert_exporter": "python",
   "pygments_lexer": "ipython3",
   "version": "3.11.0"
  },
  "orig_nbformat": 4
 },
 "nbformat": 4,
 "nbformat_minor": 2
}
