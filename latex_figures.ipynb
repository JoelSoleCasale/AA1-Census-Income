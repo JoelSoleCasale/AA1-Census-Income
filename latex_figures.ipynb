{
 "cells": [
  {
   "cell_type": "code",
   "execution_count": 4,
   "metadata": {},
   "outputs": [],
   "source": [
    "import os\n",
    "import glob\n",
    "\n",
    "FIG_FOLDER = 'figures'"
   ]
  },
  {
   "cell_type": "code",
   "execution_count": 22,
   "metadata": {},
   "outputs": [],
   "source": [
    "def generate_latex_code_fig(filenames, rem_caption, label, latex_path, width=0.5):\n",
    "    \"\"\"Generate latex code for figures, filenames is a regex string\"\"\"\n",
    "    filenames = glob.glob(os.path.join(FIG_FOLDER, filenames))\n",
    "    filenames.sort()\n",
    "    for filename in filenames:\n",
    "        # remove all the substrings in the filename that are in rem_caption\n",
    "        caption = os.path.basename(filename)\n",
    "        for s in rem_caption:\n",
    "            caption = caption.replace(s[0], s[1])\n",
    "        caption = caption.replace('_', '\\_')\n",
    "        print(f\"\"\"\n",
    "\\\\begin{{figure}}[ht]\n",
    "    \\\\centering\n",
    "    \\\\includegraphics[width={width}\\\\textwidth]{{{latex_path+'/'+os.path.basename(filename)}}}\n",
    "    \\\\caption{{{caption}}} \\\\label{{{label+caption}}}\n",
    "\\\\end{{figure}}\"\"\")\n"
   ]
  },
  {
   "cell_type": "code",
   "execution_count": 23,
   "metadata": {},
   "outputs": [
    {
     "name": "stdout",
     "output_type": "stream",
     "text": [
      "\n",
      "\\begin{figure}[ht]\n",
      "    \\centering\n",
      "    \\includegraphics[width=0.4\\textwidth]{fig/raw_hist/raw_age_hist.pdf}\n",
      "    \\caption{age histogram} \\label{fig:age histogram}\n",
      "\\end{figure}\n",
      "\n",
      "\\begin{figure}[ht]\n",
      "    \\centering\n",
      "    \\includegraphics[width=0.4\\textwidth]{fig/raw_hist/raw_capital_gains_hist.pdf}\n",
      "    \\caption{capital\\_gains histogram} \\label{fig:capital\\_gains histogram}\n",
      "\\end{figure}\n",
      "\n",
      "\\begin{figure}[ht]\n",
      "    \\centering\n",
      "    \\includegraphics[width=0.4\\textwidth]{fig/raw_hist/raw_capital_losses_hist.pdf}\n",
      "    \\caption{capital\\_losses histogram} \\label{fig:capital\\_losses histogram}\n",
      "\\end{figure}\n",
      "\n",
      "\\begin{figure}[ht]\n",
      "    \\centering\n",
      "    \\includegraphics[width=0.4\\textwidth]{fig/raw_hist/raw_det_ind_code_hist.pdf}\n",
      "    \\caption{det\\_ind\\_code histogram} \\label{fig:det\\_ind\\_code histogram}\n",
      "\\end{figure}\n",
      "\n",
      "\\begin{figure}[ht]\n",
      "    \\centering\n",
      "    \\includegraphics[width=0.4\\textwidth]{fig/raw_hist/raw_det_occ_code_hist.pdf}\n",
      "    \\caption{det\\_occ\\_code histogram} \\label{fig:det\\_occ\\_code histogram}\n",
      "\\end{figure}\n",
      "\n",
      "\\begin{figure}[ht]\n",
      "    \\centering\n",
      "    \\includegraphics[width=0.4\\textwidth]{fig/raw_hist/raw_num_emp_hist.pdf}\n",
      "    \\caption{num\\_emp histogram} \\label{fig:num\\_emp histogram}\n",
      "\\end{figure}\n",
      "\n",
      "\\begin{figure}[ht]\n",
      "    \\centering\n",
      "    \\includegraphics[width=0.4\\textwidth]{fig/raw_hist/raw_own_or_self_hist.pdf}\n",
      "    \\caption{own\\_or\\_self histogram} \\label{fig:own\\_or\\_self histogram}\n",
      "\\end{figure}\n",
      "\n",
      "\\begin{figure}[ht]\n",
      "    \\centering\n",
      "    \\includegraphics[width=0.4\\textwidth]{fig/raw_hist/raw_stock_dividends_hist.pdf}\n",
      "    \\caption{stock\\_dividends histogram} \\label{fig:stock\\_dividends histogram}\n",
      "\\end{figure}\n",
      "\n",
      "\\begin{figure}[ht]\n",
      "    \\centering\n",
      "    \\includegraphics[width=0.4\\textwidth]{fig/raw_hist/raw_vet_benefits_hist.pdf}\n",
      "    \\caption{vet\\_benefits histogram} \\label{fig:vet\\_benefits histogram}\n",
      "\\end{figure}\n",
      "\n",
      "\\begin{figure}[ht]\n",
      "    \\centering\n",
      "    \\includegraphics[width=0.4\\textwidth]{fig/raw_hist/raw_wage_per_hour_hist.pdf}\n",
      "    \\caption{wage\\_per\\_hour histogram} \\label{fig:wage\\_per\\_hour histogram}\n",
      "\\end{figure}\n",
      "\n",
      "\\begin{figure}[ht]\n",
      "    \\centering\n",
      "    \\includegraphics[width=0.4\\textwidth]{fig/raw_hist/raw_weeks_worked_hist.pdf}\n",
      "    \\caption{weeks\\_worked histogram} \\label{fig:weeks\\_worked histogram}\n",
      "\\end{figure}\n",
      "\n",
      "\\begin{figure}[ht]\n",
      "    \\centering\n",
      "    \\includegraphics[width=0.4\\textwidth]{fig/raw_hist/raw_year_hist.pdf}\n",
      "    \\caption{year histogram} \\label{fig:year histogram}\n",
      "\\end{figure}\n"
     ]
    }
   ],
   "source": [
    "generate_latex_code_fig('raw_*', [('raw_',''),('_hist.pdf',' histogram')], 'fig:', 'fig/raw_hist',0.4)"
   ]
  }
 ],
 "metadata": {
  "kernelspec": {
   "display_name": "aa1",
   "language": "python",
   "name": "python3"
  },
  "language_info": {
   "codemirror_mode": {
    "name": "ipython",
    "version": 3
   },
   "file_extension": ".py",
   "mimetype": "text/x-python",
   "name": "python",
   "nbconvert_exporter": "python",
   "pygments_lexer": "ipython3",
   "version": "3.11.0"
  },
  "orig_nbformat": 4
 },
 "nbformat": 4,
 "nbformat_minor": 2
}
