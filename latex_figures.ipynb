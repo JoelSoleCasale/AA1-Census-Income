{
 "cells": [
  {
   "cell_type": "code",
   "execution_count": 1,
   "metadata": {},
   "outputs": [],
   "source": [
    "import os\n",
    "import glob\n",
    "import pandas as pd\n",
    "\n",
    "FIG_FOLDER = 'figures'"
   ]
  },
  {
   "cell_type": "code",
   "execution_count": 2,
   "metadata": {},
   "outputs": [],
   "source": [
    "def generate_latex_code_fig(filenames, rem_caption, label, latex_path, width=0.5):\n",
    "    \"\"\"Generate latex code for figures, filenames is a regex string\"\"\"\n",
    "    filenames = glob.glob(os.path.join(FIG_FOLDER, filenames))\n",
    "    filenames.sort()\n",
    "    for filename in filenames:\n",
    "        # remove all the substrings in the filename that are in rem_caption\n",
    "        caption = os.path.basename(filename)\n",
    "        for s in rem_caption:\n",
    "            caption = caption.replace(s[0], s[1])\n",
    "        caption = caption.replace('_', '\\_')\n",
    "        print(f\"\"\"\n",
    "\\\\begin{{figure}}[ht]\n",
    "    \\\\centering\n",
    "    \\\\includegraphics[width={width}\\\\textwidth]{{{latex_path+'/'+os.path.basename(filename)}}}\n",
    "    \\\\caption{{{caption}}} \\\\label{{{label+caption}}}\n",
    "\\\\end{{figure}}\"\"\")\n"
   ]
  },
  {
   "cell_type": "code",
   "execution_count": 3,
   "metadata": {},
   "outputs": [
    {
     "name": "stdout",
     "output_type": "stream",
     "text": [
      "\n",
      "\\begin{figure}[ht]\n",
      "    \\centering\n",
      "    \\includegraphics[width=0.4\\textwidth]{fig/raw_hist/raw_cat_most_common.pdf}\n",
      "    \\caption{cat\\_most\\_common.pdf} \\label{fig:cat\\_most\\_common.pdf}\n",
      "\\end{figure}\n"
     ]
    }
   ],
   "source": [
    "generate_latex_code_fig('raw_*', [('raw_',''),('_hist.pdf',' histogram')], 'fig:', 'fig/raw_hist',0.4)"
   ]
  },
  {
   "cell_type": "code",
   "execution_count": 13,
   "metadata": {},
   "outputs": [
    {
     "name": "stdout",
     "output_type": "stream",
     "text": [
      "\\begin{tabular}{ll}\n",
      "\\toprule\n",
      "     Column Name &                                        Description \\\\\n",
      "\\midrule\n",
      "             age &                                  Age of the worker \\\\\n",
      "    class\\_worker &                                    Class of worker \\\\\n",
      "    det\\_ind\\_code &                                      Industry code \\\\\n",
      "    det\\_occ\\_code &                                    Occupation code \\\\\n",
      "       education &                                 Level of education \\\\\n",
      "   wage\\_per\\_hour &                                      Wage per hour \\\\\n",
      "      hs\\_college &      Enrolled in educational institution last week \\\\\n",
      "    marital\\_stat &                                     Marital status \\\\\n",
      "  major\\_ind\\_code &                                Major industry code \\\\\n",
      "  major\\_occ\\_code &                              Major occupation code \\\\\n",
      "            race &                                               Race \\\\\n",
      "     hisp\\_origin &                                    Hispanic origin \\\\\n",
      "             sex &                                                Sex \\\\\n",
      "    union\\_member &                            Member of a labor union \\\\\n",
      "    unemp\\_reason &                            Reason for unemployment \\\\\n",
      "full\\_or\\_part\\_emp &               Full- or part-time employment status \\\\\n",
      "   capital\\_gains &                                      Capital gains \\\\\n",
      "  capital\\_losses &                                     Capital losses \\\\\n",
      " stock\\_dividends &                              Dividends from stocks \\\\\n",
      "  tax\\_filer\\_stat &                                   Tax filer status \\\\\n",
      " region\\_prev\\_res &                       Region of previous residence \\\\\n",
      "  state\\_prev\\_res &                        State of previous residence \\\\\n",
      " det\\_hh\\_fam\\_stat &               Detailed household and family status \\\\\n",
      "     det\\_hh\\_summ &            Detailed household summary in household \\\\\n",
      "     mig\\_chg\\_msa &                     Migration code - change in MSA \\\\\n",
      "     mig\\_chg\\_reg &                  Migration code - change in region \\\\\n",
      "    mig\\_move\\_reg &                Migration code - move within region \\\\\n",
      "        mig\\_same &                    Live in this house one year ago \\\\\n",
      "mig\\_prev\\_sunbelt &          Migration - previous residence in sunbelt \\\\\n",
      "         num\\_emp &         Number of persons that worked for employer \\\\\n",
      "    fam\\_under\\_18 &                            Family members under 18 \\\\\n",
      "  country\\_father &                            Country of birth father \\\\\n",
      "  country\\_mother &                            Country of birth mother \\\\\n",
      "    country\\_self &                                   Country of birth \\\\\n",
      "     citizenship &                                        Citizenship \\\\\n",
      "     own\\_or\\_self &                     Own business or self-employed? \\\\\n",
      "    vet\\_question & Fill included questionnaire for Veterans Admini... \\\\\n",
      "    vet\\_benefits &                                  Veterans benefits \\\\\n",
      "    weeks\\_worked &                           Weeks worked in the year \\\\\n",
      "            year &                                     Year of survey \\\\\n",
      "      income\\_50k &           Income less than or greater than \\$50,000 \\\\\n",
      "        edu\\_year &                       Number of years of education \\\\\n",
      "\\bottomrule\n",
      "\\end{tabular}\n",
      "\n"
     ]
    },
    {
     "name": "stderr",
     "output_type": "stream",
     "text": [
      "C:\\Users\\joels\\AppData\\Local\\Temp\\ipykernel_21716\\2772334941.py:5: FutureWarning: In future versions `DataFrame.to_latex` is expected to utilise the base implementation of `Styler.to_latex` for formatting and rendering. The arguments signature may therefore change. It is recommended instead to use `DataFrame.style.to_latex` which also contains additional functionality.\n",
      "  print(df.to_latex(index=False))\n"
     ]
    }
   ],
   "source": [
    "# import column description.csv\n",
    "df = pd.read_csv('column_description.csv')\n",
    "df = df.drop('Type', axis=1)\n",
    "# print the table as a latex table\n",
    "print(df.to_latex(index=False))"
   ]
  }
 ],
 "metadata": {
  "kernelspec": {
   "display_name": "aa1",
   "language": "python",
   "name": "python3"
  },
  "language_info": {
   "codemirror_mode": {
    "name": "ipython",
    "version": 3
   },
   "file_extension": ".py",
   "mimetype": "text/x-python",
   "name": "python",
   "nbconvert_exporter": "python",
   "pygments_lexer": "ipython3",
   "version": "3.11.0"
  },
  "orig_nbformat": 4
 },
 "nbformat": 4,
 "nbformat_minor": 2
}
